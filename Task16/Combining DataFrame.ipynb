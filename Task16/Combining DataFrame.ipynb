{
 "cells": [
  {
   "cell_type": "markdown",
   "id": "bb6002d0",
   "metadata": {},
   "source": [
    "# Combining Data frames"
   ]
  },
  {
   "cell_type": "code",
   "execution_count": 2,
   "id": "9e1734f8",
   "metadata": {},
   "outputs": [],
   "source": [
    "import pandas as pd"
   ]
  },
  {
   "cell_type": "code",
   "execution_count": 3,
   "id": "10389bd5",
   "metadata": {},
   "outputs": [],
   "source": [
    "registrations = pd.DataFrame({'reg_id':[1,2,3,4],'name':['Andrew','Bobo','Claire','David']})\n",
    "logins = pd.DataFrame({'log_id':[1,2,3,4],'name':['Xavier','Andrew','Yolanda','Bobo']})"
   ]
  },
  {
   "cell_type": "code",
   "execution_count": 6,
   "id": "f99c3560",
   "metadata": {},
   "outputs": [
    {
     "name": "stdout",
     "output_type": "stream",
     "text": [
      "   reg_id    name\n",
      "0       1  Andrew\n",
      "1       2    Bobo\n",
      "2       3  Claire\n",
      "3       4   David \n",
      "\n",
      "   log_id     name\n",
      "0       1   Xavier\n",
      "1       2   Andrew\n",
      "2       3  Yolanda\n",
      "3       4     Bobo\n"
     ]
    }
   ],
   "source": [
    "print(registrations, '\\n')\n",
    "print(logins)\n"
   ]
  },
  {
   "cell_type": "markdown",
   "id": "5ed3b8a9",
   "metadata": {},
   "source": [
    "###### Concat"
   ]
  },
  {
   "cell_type": "code",
   "execution_count": 7,
   "id": "601203c7",
   "metadata": {},
   "outputs": [
    {
     "name": "stdout",
     "output_type": "stream",
     "text": [
      "   reg_id    name  log_id     name\n",
      "0       1  Andrew       1   Xavier\n",
      "1       2    Bobo       2   Andrew\n",
      "2       3  Claire       3  Yolanda\n",
      "3       4   David       4     Bobo\n"
     ]
    }
   ],
   "source": [
    "print(pd.concat([registrations,logins],axis =1))"
   ]
  },
  {
   "cell_type": "code",
   "execution_count": 8,
   "id": "fd7188c9",
   "metadata": {},
   "outputs": [
    {
     "name": "stdout",
     "output_type": "stream",
     "text": [
      "   reg_id     name  log_id\n",
      "0     1.0   Andrew     NaN\n",
      "1     2.0     Bobo     NaN\n",
      "2     3.0   Claire     NaN\n",
      "3     4.0    David     NaN\n",
      "0     NaN   Xavier     1.0\n",
      "1     NaN   Andrew     2.0\n",
      "2     NaN  Yolanda     3.0\n",
      "3     NaN     Bobo     4.0\n"
     ]
    }
   ],
   "source": [
    "print(pd.concat([registrations,logins],axis =0))"
   ]
  },
  {
   "cell_type": "markdown",
   "id": "5d9dc0b7",
   "metadata": {},
   "source": [
    "###### Merging"
   ]
  },
  {
   "cell_type": "markdown",
   "id": "1dfe3015",
   "metadata": {},
   "source": [
    "###### 1. Inner"
   ]
  },
  {
   "cell_type": "code",
   "execution_count": 11,
   "id": "c74310dd",
   "metadata": {
    "scrolled": true
   },
   "outputs": [
    {
     "name": "stdout",
     "output_type": "stream",
     "text": [
      "   log_id    name  reg_id\n",
      "0       2  Andrew       1\n",
      "1       4    Bobo       2\n"
     ]
    }
   ],
   "source": [
    "print (pd.merge(logins,registrations ,how='inner',on='name'))"
   ]
  },
  {
   "cell_type": "code",
   "execution_count": null,
   "id": "f41b42b7",
   "metadata": {},
   "outputs": [],
   "source": [
    "print (pd.merge(logins,registrations ,how='left',on='name'))"
   ]
  }
 ],
 "metadata": {
  "kernelspec": {
   "display_name": "Python 3 (ipykernel)",
   "language": "python",
   "name": "python3"
  },
  "language_info": {
   "codemirror_mode": {
    "name": "ipython",
    "version": 3
   },
   "file_extension": ".py",
   "mimetype": "text/x-python",
   "name": "python",
   "nbconvert_exporter": "python",
   "pygments_lexer": "ipython3",
   "version": "3.9.13"
  }
 },
 "nbformat": 4,
 "nbformat_minor": 5
}
