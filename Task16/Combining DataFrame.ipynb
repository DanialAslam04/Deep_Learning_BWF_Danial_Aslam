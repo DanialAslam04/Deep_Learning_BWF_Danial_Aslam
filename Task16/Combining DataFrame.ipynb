{
 "cells": [
  {
   "cell_type": "markdown",
   "id": "98f83d74",
   "metadata": {},
   "source": [
    "# Combining Data frames"
   ]
  },
  {
   "cell_type": "code",
   "execution_count": 2,
   "id": "0a281942",
   "metadata": {},
   "outputs": [],
   "source": [
    "import pandas as pd"
   ]
  },
  {
   "cell_type": "code",
   "execution_count": 3,
   "id": "2af0767c",
   "metadata": {},
   "outputs": [],
   "source": [
    "registrations = pd.DataFrame({'reg_id':[1,2,3,4],'name':['Andrew','Bobo','Claire','David']})\n",
    "logins = pd.DataFrame({'log_id':[1,2,3,4],'name':['Xavier','Andrew','Yolanda','Bobo']})"
   ]
  },
  {
   "cell_type": "code",
   "execution_count": 6,
   "id": "da0f11dd",
   "metadata": {},
   "outputs": [
    {
     "name": "stdout",
     "output_type": "stream",
     "text": [
      "   reg_id    name\n",
      "0       1  Andrew\n",
      "1       2    Bobo\n",
      "2       3  Claire\n",
      "3       4   David \n",
      "\n",
      "   log_id     name\n",
      "0       1   Xavier\n",
      "1       2   Andrew\n",
      "2       3  Yolanda\n",
      "3       4     Bobo\n"
     ]
    }
   ],
   "source": [
    "print(registrations, '\\n')\n",
    "print(logins)\n"
   ]
  },
  {
   "cell_type": "markdown",
   "id": "bd2a6829",
   "metadata": {},
   "source": [
    "###### Concat"
   ]
  },
  {
   "cell_type": "code",
   "execution_count": 7,
   "id": "2585d6cd",
   "metadata": {},
   "outputs": [
    {
     "name": "stdout",
     "output_type": "stream",
     "text": [
      "   reg_id    name  log_id     name\n",
      "0       1  Andrew       1   Xavier\n",
      "1       2    Bobo       2   Andrew\n",
      "2       3  Claire       3  Yolanda\n",
      "3       4   David       4     Bobo\n"
     ]
    }
   ],
   "source": [
    "print(pd.concat([registrations,logins],axis =1))"
   ]
  },
  {
   "cell_type": "code",
   "execution_count": 8,
   "id": "8ad37030",
   "metadata": {},
   "outputs": [
    {
     "name": "stdout",
     "output_type": "stream",
     "text": [
      "   reg_id     name  log_id\n",
      "0     1.0   Andrew     NaN\n",
      "1     2.0     Bobo     NaN\n",
      "2     3.0   Claire     NaN\n",
      "3     4.0    David     NaN\n",
      "0     NaN   Xavier     1.0\n",
      "1     NaN   Andrew     2.0\n",
      "2     NaN  Yolanda     3.0\n",
      "3     NaN     Bobo     4.0\n"
     ]
    }
   ],
   "source": [
    "print(pd.concat([registrations,logins],axis =0))"
   ]
  },
  {
   "cell_type": "markdown",
   "id": "4f789677",
   "metadata": {},
   "source": [
    "###### Merging"
   ]
  },
  {
   "cell_type": "markdown",
   "id": "d556bd04",
   "metadata": {},
   "source": [
    "###### 1. Inner"
   ]
  },
  {
   "cell_type": "code",
   "execution_count": 11,
   "id": "4f00b122",
   "metadata": {
    "scrolled": true
   },
   "outputs": [
    {
     "name": "stdout",
     "output_type": "stream",
     "text": [
      "   log_id    name  reg_id\n",
      "0       2  Andrew       1\n",
      "1       4    Bobo       2\n"
     ]
    }
   ],
   "source": [
    "print (pd.merge(logins,registrations ,how='inner',on='name'))"
   ]
  },
  {
   "cell_type": "code",
   "execution_count": 12,
   "id": "70d4aeac",
   "metadata": {},
   "outputs": [
    {
     "name": "stdout",
     "output_type": "stream",
     "text": [
      "   log_id     name  reg_id\n",
      "0       1   Xavier     NaN\n",
      "1       2   Andrew     1.0\n",
      "2       3  Yolanda     NaN\n",
      "3       4     Bobo     2.0\n"
     ]
    }
   ],
   "source": [
    "print (pd.merge(logins,registrations ,how='left',on='name'))"
   ]
  },
  {
   "cell_type": "code",
   "execution_count": 13,
   "id": "b447ad8a",
   "metadata": {},
   "outputs": [
    {
     "name": "stdout",
     "output_type": "stream",
     "text": [
      "   log_id    name  reg_id\n",
      "0     2.0  Andrew       1\n",
      "1     4.0    Bobo       2\n",
      "2     NaN  Claire       3\n",
      "3     NaN   David       4\n"
     ]
    }
   ],
   "source": [
    "print (pd.merge(logins,registrations ,how='right',on='name'))"
   ]
  },
  {
   "cell_type": "code",
   "execution_count": 14,
   "id": "31e60ab1",
   "metadata": {},
   "outputs": [
    {
     "name": "stdout",
     "output_type": "stream",
     "text": [
      "   log_id     name  reg_id\n",
      "0     1.0   Xavier     NaN\n",
      "1     2.0   Andrew     1.0\n",
      "2     3.0  Yolanda     NaN\n",
      "3     4.0     Bobo     2.0\n",
      "4     NaN   Claire     3.0\n",
      "5     NaN    David     4.0\n"
     ]
    }
   ],
   "source": [
    "print (pd.merge(logins,registrations ,how='outer',on='name'))"
   ]
  },
  {
   "cell_type": "code",
   "execution_count": null,
   "id": "c94cc73b",
   "metadata": {},
   "outputs": [],
   "source": []
  }
 ],
 "metadata": {
  "kernelspec": {
   "display_name": "Python 3 (ipykernel)",
   "language": "python",
   "name": "python3"
  },
  "language_info": {
   "codemirror_mode": {
    "name": "ipython",
    "version": 3
   },
   "file_extension": ".py",
   "mimetype": "text/x-python",
   "name": "python",
   "nbconvert_exporter": "python",
   "pygments_lexer": "ipython3",
   "version": "3.9.13"
  }
 },
 "nbformat": 4,
 "nbformat_minor": 5
}
