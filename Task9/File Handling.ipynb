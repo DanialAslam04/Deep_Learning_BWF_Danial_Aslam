{
 "cells": [
  {
   "cell_type": "markdown",
   "id": "8670f771",
   "metadata": {},
   "source": [
    "### File handling"
   ]
  },
  {
   "cell_type": "markdown",
   "id": "5a013300",
   "metadata": {},
   "source": [
    "###### Open"
   ]
  },
  {
   "cell_type": "code",
   "execution_count": 4,
   "id": "5643640f",
   "metadata": {},
   "outputs": [
    {
     "data": {
      "text/plain": [
       "<_io.TextIOWrapper name='file.txt' mode='r' encoding='cp1252'>"
      ]
     },
     "execution_count": 4,
     "metadata": {},
     "output_type": "execute_result"
    }
   ],
   "source": [
    "file1 = open(\"file.txt\",\"r\")\n",
    "file1"
   ]
  },
  {
   "cell_type": "markdown",
   "id": "2a7d364f",
   "metadata": {},
   "source": [
    "###### close"
   ]
  },
  {
   "cell_type": "code",
   "execution_count": 5,
   "id": "3a8a6780",
   "metadata": {},
   "outputs": [],
   "source": [
    "file1.close()"
   ]
  },
  {
   "cell_type": "markdown",
   "id": "636ab0f8",
   "metadata": {},
   "source": [
    "###### read and write"
   ]
  },
  {
   "cell_type": "code",
   "execution_count": 14,
   "id": "50d61b09",
   "metadata": {},
   "outputs": [
    {
     "name": "stdout",
     "output_type": "stream",
     "text": [
      "Output of Read function is \n",
      "Hello \n",
      "C++ \n",
      "Java\n",
      "Python \n",
      "\n",
      "\n"
     ]
    }
   ],
   "source": [
    "file1 = open(\"file.txt\",\"r+\")\n",
    "L = [\"C++ \\n\",\"Java\\n\",\"Python \\n\"]\n",
    " \n",
    "file1.write(\"Hello \\n\")\n",
    "file1.writelines(L)\n",
    "file1.close() \n",
    " \n",
    "file1 = open(\"file.txt\",\"r+\")\n",
    " \n",
    "print(\"Output of Read function is \")\n",
    "print(file1.read())\n",
    "print()"
   ]
  },
  {
   "cell_type": "code",
   "execution_count": 19,
   "id": "7b7cdad2",
   "metadata": {},
   "outputs": [
    {
     "name": "stdout",
     "output_type": "stream",
     "text": [
      "Output of Readlines after appending\n",
      "Hello \n",
      "C++ \n",
      "Java\n",
      "Python \n",
      "Scala\n",
      "R R \n",
      "\n",
      "\n"
     ]
    }
   ],
   "source": [
    "file1 = open(\"file.txt\",\"a\")#append mode\n",
    "file1.write(\"R \\n\")\n",
    "file1.close()\n",
    " \n",
    "file1 = open(\"file.txt\",\"r\")\n",
    "print(\"Output of Readlines after appending\")\n",
    "print(file1.read())\n",
    "print()\n",
    "file1.close()"
   ]
  },
  {
   "cell_type": "code",
   "execution_count": null,
   "id": "bb736a28",
   "metadata": {},
   "outputs": [],
   "source": []
  },
  {
   "cell_type": "code",
   "execution_count": null,
   "id": "7ab3d71b",
   "metadata": {},
   "outputs": [],
   "source": []
  },
  {
   "cell_type": "code",
   "execution_count": null,
   "id": "469f329c",
   "metadata": {},
   "outputs": [],
   "source": []
  }
 ],
 "metadata": {
  "kernelspec": {
   "display_name": "Python 3 (ipykernel)",
   "language": "python",
   "name": "python3"
  },
  "language_info": {
   "codemirror_mode": {
    "name": "ipython",
    "version": 3
   },
   "file_extension": ".py",
   "mimetype": "text/x-python",
   "name": "python",
   "nbconvert_exporter": "python",
   "pygments_lexer": "ipython3",
   "version": "3.9.13"
  }
 },
 "nbformat": 4,
 "nbformat_minor": 5
}
