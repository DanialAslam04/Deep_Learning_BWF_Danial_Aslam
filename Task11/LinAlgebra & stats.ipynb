{
 "cells": [
  {
   "cell_type": "markdown",
   "id": "b72e4fb7",
   "metadata": {},
   "source": [
    "### Linear Algebra"
   ]
  },
  {
   "cell_type": "markdown",
   "id": "1feb9166",
   "metadata": {},
   "source": [
    "The Linear Algebra module of NumPy (linalg) offers various methods to apply linear algebra on any numpy array."
   ]
  },
  {
   "cell_type": "code",
   "execution_count": null,
   "id": "dd562c22",
   "metadata": {},
   "outputs": [],
   "source": [
    "import numpy as np "
   ]
  },
  {
   "cell_type": "code",
   "execution_count": 35,
   "id": "38bcc70c",
   "metadata": {},
   "outputs": [
    {
     "data": {
      "text/plain": [
       "array([[ 6, 10, 15],\n",
       "       [ 1, 11, 12],\n",
       "       [11, 12,  4]])"
      ]
     },
     "execution_count": 35,
     "metadata": {},
     "output_type": "execute_result"
    }
   ],
   "source": [
    "arr = np.random.randint(1,20,9)\n",
    "arr = arr.reshape(3,3)\n",
    "arr"
   ]
  },
  {
   "cell_type": "code",
   "execution_count": 36,
   "id": "7b01b7c5",
   "metadata": {},
   "outputs": [
    {
     "name": "stdout",
     "output_type": "stream",
     "text": [
      "Rank of Arr: 3\n"
     ]
    }
   ],
   "source": [
    "print(\"Rank of Arr:\", np.linalg.matrix_rank(arr))"
   ]
  },
  {
   "cell_type": "code",
   "execution_count": 37,
   "id": "d80cb636",
   "metadata": {},
   "outputs": [
    {
     "name": "stdout",
     "output_type": "stream",
     "text": [
      "\n",
      "Determinant of Arr: -954.9999999999993\n"
     ]
    }
   ],
   "source": [
    "print(\"\\nDeterminant of Arr:\", np.linalg.det(arr))"
   ]
  },
  {
   "cell_type": "code",
   "execution_count": 38,
   "id": "d7332bad",
   "metadata": {},
   "outputs": [
    {
     "name": "stdout",
     "output_type": "stream",
     "text": [
      "\n",
      "Inverse of A:\n",
      " [[ 0.10471204 -0.14659686  0.04712042]\n",
      " [-0.13403141  0.14764398  0.05968586]\n",
      " [ 0.11413613 -0.03979058 -0.05863874]]\n"
     ]
    }
   ],
   "source": [
    "print(\"\\nInverse of A:\\n\", np.linalg.inv(arr))"
   ]
  },
  {
   "cell_type": "code",
   "execution_count": 46,
   "id": "4dce47de",
   "metadata": {},
   "outputs": [
    {
     "name": "stdout",
     "output_type": "stream",
     "text": [
      "\n",
      "Matrix A raised to power 3:\n",
      " [[ 1390567387   640076784 -1697835590]\n",
      " [ 1909145372 -1871777851 -1223455346]\n",
      " [ -757184310  -401668484  2085650331]]\n"
     ]
    }
   ],
   "source": [
    "print(\"\\nMatrix A raised to power 3:\\n\",\n",
    "           np.linalg.matrix_power(arr, 100))"
   ]
  },
  {
   "cell_type": "code",
   "execution_count": 49,
   "id": "60f72f4f",
   "metadata": {},
   "outputs": [
    {
     "name": "stdout",
     "output_type": "stream",
     "text": [
      "Dot Product of scalar values  :  20\n",
      "Dot Product  :  (-7+22j)\n"
     ]
    }
   ],
   "source": [
    "# Scalars\n",
    "product = np.dot(5, 4)\n",
    "print(\"Dot Product of scalar values  : \", product)\n",
    " \n",
    "# 1D array\n",
    "vector_a = 2 + 3j\n",
    "vector_b = 4 + 5j\n",
    " \n",
    "product = np.dot(vector_a, vector_b)\n",
    "print(\"Dot Product  : \", product)"
   ]
  },
  {
   "cell_type": "code",
   "execution_count": 52,
   "id": "302797f5",
   "metadata": {},
   "outputs": [
    {
     "name": "stdout",
     "output_type": "stream",
     "text": [
      "[[211 350 270]\n",
      " [149 275 195]\n",
      " [122 290 325]]\n"
     ]
    }
   ],
   "source": [
    "ar = np.random.randint(1,20,9)\n",
    "ar = arr.reshape(3,3)\n",
    "ar\n",
    "print(np.matmul(ar, arr))"
   ]
  },
  {
   "cell_type": "code",
   "execution_count": null,
   "id": "0df96564",
   "metadata": {},
   "outputs": [],
   "source": []
  }
 ],
 "metadata": {
  "kernelspec": {
   "display_name": "Python 3 (ipykernel)",
   "language": "python",
   "name": "python3"
  },
  "language_info": {
   "codemirror_mode": {
    "name": "ipython",
    "version": 3
   },
   "file_extension": ".py",
   "mimetype": "text/x-python",
   "name": "python",
   "nbconvert_exporter": "python",
   "pygments_lexer": "ipython3",
   "version": "3.9.13"
  }
 },
 "nbformat": 4,
 "nbformat_minor": 5
}
