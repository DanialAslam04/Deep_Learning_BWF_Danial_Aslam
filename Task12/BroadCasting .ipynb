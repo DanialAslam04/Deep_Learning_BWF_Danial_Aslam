{
 "cells": [
  {
   "cell_type": "markdown",
   "id": "474f9e69",
   "metadata": {},
   "source": [
    "## Broadcasting"
   ]
  },
  {
   "cell_type": "markdown",
   "id": "c301eefa",
   "metadata": {},
   "source": [
    "The term broadcasting describes how NumPy treats arrays with different shapes during arithmetic operations."
   ]
  },
  {
   "cell_type": "code",
   "execution_count": 6,
   "id": "62817883",
   "metadata": {},
   "outputs": [
    {
     "data": {
      "text/plain": [
       "array([ 6, 12, 18])"
      ]
     },
     "execution_count": 6,
     "metadata": {},
     "output_type": "execute_result"
    }
   ],
   "source": [
    "import numpy as np\n",
    "\n",
    "arr = np.array([3,6,9])\n",
    "arr * 2"
   ]
  },
  {
   "cell_type": "markdown",
   "id": "523461fb",
   "metadata": {},
   "source": [
    "example when its valid "
   ]
  },
  {
   "cell_type": "code",
   "execution_count": 57,
   "id": "b9e78208",
   "metadata": {},
   "outputs": [
    {
     "name": "stdout",
     "output_type": "stream",
     "text": [
      "[[8 2]\n",
      " [5 2]\n",
      " [5 6]\n",
      " [7 6]] (4, 2) \n",
      "\n",
      "\n",
      "[[5 8]] (1, 2)\n"
     ]
    }
   ],
   "source": [
    "a1 = np.random.randint(0,9,8)\n",
    "a1 = a1.reshape(4,2)\n",
    "print(a1,a1.shape ,'\\n\\n')\n",
    "\n",
    "a2 = np.random.randint(0,9,2)\n",
    "a2 = a2.reshape(1,2)\n",
    "print(a2, a2.shape)"
   ]
  },
  {
   "cell_type": "code",
   "execution_count": 56,
   "id": "cf4bc250",
   "metadata": {},
   "outputs": [
    {
     "name": "stdout",
     "output_type": "stream",
     "text": [
      "[[ 2 10]\n",
      " [ 4 13]\n",
      " [ 0  8]\n",
      " [ 4 15]]\n"
     ]
    }
   ],
   "source": [
    "print(a1 + a2)"
   ]
  },
  {
   "cell_type": "markdown",
   "id": "865472ff",
   "metadata": {},
   "source": [
    "Example when its not valid"
   ]
  },
  {
   "cell_type": "code",
   "execution_count": 58,
   "id": "34c549c4",
   "metadata": {},
   "outputs": [
    {
     "name": "stdout",
     "output_type": "stream",
     "text": [
      "[[8 1]\n",
      " [7 2]\n",
      " [2 3]\n",
      " [8 1]] (4, 2) \n",
      "\n",
      "\n",
      "[[6]\n",
      " [0]] (2, 1)\n"
     ]
    }
   ],
   "source": [
    "a1 = np.random.randint(0,9,8)\n",
    "a1 = a1.reshape(4,2)\n",
    "print(a1,a1.shape ,'\\n\\n')\n",
    "\n",
    "a2 = np.random.randint(0,9,2)\n",
    "a2 = a2.reshape(2,1)\n",
    "print(a2, a2.shape)"
   ]
  },
  {
   "cell_type": "code",
   "execution_count": 59,
   "id": "837c6643",
   "metadata": {},
   "outputs": [
    {
     "ename": "ValueError",
     "evalue": "operands could not be broadcast together with shapes (4,2) (2,1) ",
     "output_type": "error",
     "traceback": [
      "\u001b[1;31m---------------------------------------------------------------------------\u001b[0m",
      "\u001b[1;31mValueError\u001b[0m                                Traceback (most recent call last)",
      "\u001b[1;32m~\\AppData\\Local\\Temp\\ipykernel_2188\\915811837.py\u001b[0m in \u001b[0;36m<module>\u001b[1;34m\u001b[0m\n\u001b[1;32m----> 1\u001b[1;33m \u001b[0mprint\u001b[0m\u001b[1;33m(\u001b[0m\u001b[0ma1\u001b[0m \u001b[1;33m+\u001b[0m \u001b[0ma2\u001b[0m\u001b[1;33m)\u001b[0m\u001b[1;33m\u001b[0m\u001b[1;33m\u001b[0m\u001b[0m\n\u001b[0m",
      "\u001b[1;31mValueError\u001b[0m: operands could not be broadcast together with shapes (4,2) (2,1) "
     ]
    }
   ],
   "source": [
    "print(a1 + a2)"
   ]
  },
  {
   "cell_type": "code",
   "execution_count": null,
   "id": "ac40a267",
   "metadata": {},
   "outputs": [],
   "source": []
  }
 ],
 "metadata": {
  "kernelspec": {
   "display_name": "Python 3 (ipykernel)",
   "language": "python",
   "name": "python3"
  },
  "language_info": {
   "codemirror_mode": {
    "name": "ipython",
    "version": 3
   },
   "file_extension": ".py",
   "mimetype": "text/x-python",
   "name": "python",
   "nbconvert_exporter": "python",
   "pygments_lexer": "ipython3",
   "version": "3.9.13"
  }
 },
 "nbformat": 4,
 "nbformat_minor": 5
}
