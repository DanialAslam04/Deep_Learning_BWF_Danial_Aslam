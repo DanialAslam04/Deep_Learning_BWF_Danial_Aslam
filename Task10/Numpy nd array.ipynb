{
 "cells": [
  {
   "cell_type": "markdown",
   "id": "d847a5aa",
   "metadata": {},
   "source": [
    "## Numpy Array"
   ]
  },
  {
   "cell_type": "markdown",
   "id": "f9ce1e38",
   "metadata": {},
   "source": [
    "Comparison between np array and list"
   ]
  },
  {
   "cell_type": "code",
   "execution_count": 2,
   "id": "5aa28e03",
   "metadata": {},
   "outputs": [
    {
     "name": "stdout",
     "output_type": "stream",
     "text": [
      "9.044506900000002\n",
      "13.082854899999987\n"
     ]
    }
   ],
   "source": [
    "setup = \"import numpy as np\"\n",
    "import timeit\n",
    "\n",
    "\n",
    "c1='''\n",
    "s=0\n",
    "lst = [i for i in range(10000)]\n",
    "for i in lst:\n",
    "    s*=i\n",
    "'''\n",
    "\n",
    "c2='''\n",
    "s=0\n",
    "np_arr = np.arange(10000)\n",
    "for i in np_arr:\n",
    "    s*=i\n",
    "'''\n",
    "\n",
    "print (timeit.timeit(stmt = c1, number = 10000))\n",
    "print (timeit.timeit(setup=setup,stmt = c2, number = 10000))\n",
    "\n"
   ]
  },
  {
   "cell_type": "code",
   "execution_count": 3,
   "id": "5c4f6b09",
   "metadata": {},
   "outputs": [
    {
     "name": "stdout",
     "output_type": "stream",
     "text": [
      "List multiplication time: 0.09058059999999557\n",
      "Array multiplication time: 0.0009928000000059\n"
     ]
    }
   ],
   "source": [
    "import numpy as np\n",
    "\n",
    "# create a Python list and a NumPy array with 1 million elements\n",
    "lst = [i for i in range(10000)]\n",
    "arr = np.arange(10000)\n",
    "\n",
    "# perform element-wise multiplication using a Python list\n",
    "def multiply_list(lst):\n",
    "    return [elem * 2 for elem in lst]\n",
    "\n",
    "# perform element-wise multiplication using a NumPy array\n",
    "def multiply_array(arr):\n",
    "    return arr * 2\n",
    "\n",
    "# time the list multiplication operation\n",
    "list_time = timeit.timeit(lambda: multiply_list(lst), number=100)\n",
    "\n",
    "# time the array multiplication operation\n",
    "array_time = timeit.timeit(lambda: multiply_array(arr), number=100)\n",
    "\n",
    "# print the results\n",
    "print(\"List multiplication time:\", list_time)\n",
    "print(\"Array multiplication time:\", array_time)"
   ]
  },
  {
   "cell_type": "code",
   "execution_count": 4,
   "id": "075dd60e",
   "metadata": {},
   "outputs": [
    {
     "data": {
      "text/plain": [
       "(3, 2)"
      ]
     },
     "execution_count": 4,
     "metadata": {},
     "output_type": "execute_result"
    }
   ],
   "source": [
    "# multi Dimensional\n",
    "arr = np.array([[1,1],[2,2],[3,3]])\n",
    "arr.shape"
   ]
  },
  {
   "cell_type": "code",
   "execution_count": 5,
   "id": "c5cfbb69",
   "metadata": {},
   "outputs": [
    {
     "name": "stdout",
     "output_type": "stream",
     "text": [
      "<class 'generator'>\n"
     ]
    },
    {
     "data": {
      "text/plain": [
       "array([ 0,  1,  4,  9, 16, 25, 36, 49])"
      ]
     },
     "execution_count": 5,
     "metadata": {},
     "output_type": "execute_result"
    }
   ],
   "source": [
    "# Converting  a generator into np array\n",
    "\n",
    "l = (a*a for a in range(8))\n",
    "print(type(l))\n",
    "ar = np.fromiter(l,int)\n",
    "ar"
   ]
  },
  {
   "cell_type": "code",
   "execution_count": 6,
   "id": "26b1c40d",
   "metadata": {},
   "outputs": [
    {
     "name": "stdout",
     "output_type": "stream",
     "text": [
      "<class 'list'>\n"
     ]
    },
    {
     "data": {
      "text/plain": [
       "array([ 0,  1,  4,  9, 16, 25, 36, 49])"
      ]
     },
     "execution_count": 6,
     "metadata": {},
     "output_type": "execute_result"
    }
   ],
   "source": [
    "# converting simple list into nd array\n",
    "\n",
    "l = [a*a for a in range(8)]\n",
    "print(type(l))\n",
    "ar = np.array(l)\n",
    "ar"
   ]
  },
  {
   "cell_type": "markdown",
   "id": "73efb2ce",
   "metadata": {},
   "source": [
    "###### numpy.arange():\n",
    "This is an inbuilt NumPy function that returns evenly spaced values within a given interval."
   ]
  },
  {
   "cell_type": "code",
   "execution_count": 7,
   "id": "65b8866c",
   "metadata": {},
   "outputs": [
    {
     "data": {
      "text/plain": [
       "array([0., 2., 4., 6., 8.])"
      ]
     },
     "execution_count": 7,
     "metadata": {},
     "output_type": "execute_result"
    }
   ],
   "source": [
    "a = np.arange(0,10 ,2,float)\n",
    "a"
   ]
  },
  {
   "cell_type": "code",
   "execution_count": 30,
   "id": "3ac32809",
   "metadata": {},
   "outputs": [
    {
     "data": {
      "text/plain": [
       "array([[1., 1., 1., ..., 1., 1., 1.],\n",
       "       [1., 1., 1., ..., 1., 1., 1.],\n",
       "       [1., 1., 1., ..., 1., 1., 1.],\n",
       "       ...,\n",
       "       [1., 1., 1., ..., 1., 1., 1.],\n",
       "       [1., 1., 1., ..., 1., 1., 1.],\n",
       "       [1., 1., 1., ..., 1., 1., 1.]])"
      ]
     },
     "execution_count": 30,
     "metadata": {},
     "output_type": "execute_result"
    }
   ],
   "source": [
    "np.ones([10000,100])"
   ]
  },
  {
   "cell_type": "code",
   "execution_count": 31,
   "id": "ab52d4ba",
   "metadata": {},
   "outputs": [
    {
     "data": {
      "text/plain": [
       "array([[0., 0., 0., ..., 0., 0., 0.],\n",
       "       [0., 0., 0., ..., 0., 0., 0.],\n",
       "       [0., 0., 0., ..., 0., 0., 0.],\n",
       "       ...,\n",
       "       [0., 0., 0., ..., 0., 0., 0.],\n",
       "       [0., 0., 0., ..., 0., 0., 0.],\n",
       "       [0., 0., 0., ..., 0., 0., 0.]])"
      ]
     },
     "execution_count": 31,
     "metadata": {},
     "output_type": "execute_result"
    }
   ],
   "source": [
    "np.zeros([10000,100])"
   ]
  },
  {
   "cell_type": "markdown",
   "id": "1b025157",
   "metadata": {},
   "source": [
    "### Operations"
   ]
  },
  {
   "cell_type": "code",
   "execution_count": 76,
   "id": "99ce29d6",
   "metadata": {},
   "outputs": [
    {
     "name": "stdout",
     "output_type": "stream",
     "text": [
      "[[0 1]\n",
      " [2 3]] \n",
      "\n",
      "[[5 6]\n",
      " [7 8]]\n"
     ]
    }
   ],
   "source": [
    "arr1 = np.arange(4, dtype = int)\n",
    "arr1 = ar1.reshape(2,2)\n",
    "\n",
    "print(ar1,'\\n')\n",
    "\n",
    "arr2 = np.arange(5,9)\n",
    "arr2 = ar2.reshape(2,2)\n",
    "\n",
    "print(ar2)"
   ]
  },
  {
   "cell_type": "code",
   "execution_count": 78,
   "id": "21b7465a",
   "metadata": {},
   "outputs": [
    {
     "name": "stdout",
     "output_type": "stream",
     "text": [
      "\n",
      "Adding the two arrays:\n",
      "[[ 5  7]\n",
      " [ 9 11]]\n",
      "\n",
      "Subtracting the two arrays:\n",
      "[[-5 -5]\n",
      " [-5 -5]]\n",
      "\n",
      "Multiplying the two arrays:\n",
      "[[ 0  6]\n",
      " [14 24]]\n",
      "\n",
      "Dividing the two arrays:\n",
      "[[0.         0.16666667]\n",
      " [0.28571429 0.375     ]]\n",
      "\n",
      "Applying mod() function:\n",
      "[[0 1]\n",
      " [2 3]]\n",
      "\n",
      "Applying remainder() function:\n",
      "[[0 1]\n",
      " [2 3]]\n",
      "\n",
      "Applying power function:\n",
      "[[0 1]\n",
      " [4 9]]\n"
     ]
    }
   ],
   "source": [
    "print('\\nAdding the two arrays:')\n",
    "print(np.add(arr1, arr2))\n",
    " \n",
    "print('\\nSubtracting the two arrays:')\n",
    "print(np.subtract(arr1, arr2))\n",
    " \n",
    "print('\\nMultiplying the two arrays:')\n",
    "print(np.multiply(arr1, arr2))\n",
    " \n",
    "print('\\nDividing the two arrays:')\n",
    "print(np.divide(arr1, arr2))\n",
    "\n",
    "print('\\nApplying mod() function:')\n",
    "print(np.mod(arr1, arr2))\n",
    " \n",
    "print('\\nApplying remainder() function:')\n",
    "print(np.remainder(arr1, arr2))\n",
    "\n",
    "print('\\nApplying power function:')\n",
    "print(np.power(arr1, 2))"
   ]
  },
  {
   "cell_type": "code",
   "execution_count": 84,
   "id": "634f9d62",
   "metadata": {},
   "outputs": [
    {
     "name": "stdout",
     "output_type": "stream",
     "text": [
      "[0 2]\n",
      "[4 6]\n"
     ]
    }
   ],
   "source": [
    "for i in arr1:\n",
    "    print (i*2)"
   ]
  },
  {
   "cell_type": "code",
   "execution_count": null,
   "id": "8851eff2",
   "metadata": {},
   "outputs": [],
   "source": []
  }
 ],
 "metadata": {
  "kernelspec": {
   "display_name": "Python 3 (ipykernel)",
   "language": "python",
   "name": "python3"
  },
  "language_info": {
   "codemirror_mode": {
    "name": "ipython",
    "version": 3
   },
   "file_extension": ".py",
   "mimetype": "text/x-python",
   "name": "python",
   "nbconvert_exporter": "python",
   "pygments_lexer": "ipython3",
   "version": "3.9.13"
  }
 },
 "nbformat": 4,
 "nbformat_minor": 5
}
