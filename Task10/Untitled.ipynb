{
 "cells": [
  {
   "cell_type": "markdown",
   "id": "d847a5aa",
   "metadata": {},
   "source": [
    "## Numpy Array"
   ]
  },
  {
   "cell_type": "markdown",
   "id": "f9ce1e38",
   "metadata": {},
   "source": [
    "Comparison between np array and list"
   ]
  },
  {
   "cell_type": "code",
   "execution_count": 34,
   "id": "5aa28e03",
   "metadata": {},
   "outputs": [
    {
     "name": "stdout",
     "output_type": "stream",
     "text": [
      "10.086297000000286\n",
      "13.834224999999606\n"
     ]
    }
   ],
   "source": [
    "setup = \"import numpy as np\"\n",
    "import timeit\n",
    "\n",
    "\n",
    "c1='''\n",
    "s=0\n",
    "lst = [i for i in range(10000)]\n",
    "for i in lst:\n",
    "    s*=i\n",
    "'''\n",
    "\n",
    "c2='''\n",
    "s=0\n",
    "np_arr = np.arange(10000)\n",
    "for i in np_arr:\n",
    "    s*=i\n",
    "'''\n",
    "\n",
    "print (timeit.timeit(stmt = c1, number = 10000))\n",
    "print (timeit.timeit(setup=setup,stmt = c2, number = 10000))\n",
    "\n"
   ]
  },
  {
   "cell_type": "code",
   "execution_count": 32,
   "id": "5c4f6b09",
   "metadata": {},
   "outputs": [
    {
     "name": "stdout",
     "output_type": "stream",
     "text": [
      "List multiplication time: 0.08233169999994061\n",
      "Array multiplication time: 0.0012887000000318949\n"
     ]
    }
   ],
   "source": [
    "import numpy as np\n",
    "import timeit\n",
    "\n",
    "# create a Python list and a NumPy array with 1 million elements\n",
    "lst = [i for i in range(10000)]\n",
    "arr = np.arange(10000)\n",
    "\n",
    "# perform element-wise multiplication using a Python list\n",
    "def multiply_list(lst):\n",
    "    return [elem * 2 for elem in lst]\n",
    "\n",
    "# perform element-wise multiplication using a NumPy array\n",
    "def multiply_array(arr):\n",
    "    return arr * 2\n",
    "\n",
    "# time the list multiplication operation\n",
    "list_time = timeit.timeit(lambda: multiply_list(lst), number=100)\n",
    "\n",
    "# time the array multiplication operation\n",
    "array_time = timeit.timeit(lambda: multiply_array(arr), number=100)\n",
    "\n",
    "# print the results\n",
    "print(\"List multiplication time:\", list_time)\n",
    "print(\"Array multiplication time:\", array_time)"
   ]
  },
  {
   "cell_type": "code",
   "execution_count": null,
   "id": "075dd60e",
   "metadata": {},
   "outputs": [],
   "source": []
  }
 ],
 "metadata": {
  "kernelspec": {
   "display_name": "Python 3 (ipykernel)",
   "language": "python",
   "name": "python3"
  },
  "language_info": {
   "codemirror_mode": {
    "name": "ipython",
    "version": 3
   },
   "file_extension": ".py",
   "mimetype": "text/x-python",
   "name": "python",
   "nbconvert_exporter": "python",
   "pygments_lexer": "ipython3",
   "version": "3.9.13"
  }
 },
 "nbformat": 4,
 "nbformat_minor": 5
}
