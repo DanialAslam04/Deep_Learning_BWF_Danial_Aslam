{
 "cells": [
  {
   "cell_type": "markdown",
   "id": "003a7964",
   "metadata": {},
   "source": [
    "## List"
   ]
  },
  {
   "cell_type": "code",
   "execution_count": 94,
   "id": "40c3d613",
   "metadata": {},
   "outputs": [
    {
     "data": {
      "text/plain": [
       "[1, 7, 3, 9]"
      ]
     },
     "execution_count": 94,
     "metadata": {},
     "output_type": "execute_result"
    }
   ],
   "source": [
    "List=[1,7,3,9]\n",
    "List"
   ]
  },
  {
   "cell_type": "code",
   "execution_count": 84,
   "id": "53344a74",
   "metadata": {},
   "outputs": [
    {
     "data": {
      "text/plain": [
       "[0, 7, 3, 9]"
      ]
     },
     "execution_count": 84,
     "metadata": {},
     "output_type": "execute_result"
    }
   ],
   "source": [
    "#Changing\n",
    "List[0] = 0\n",
    "List"
   ]
  },
  {
   "cell_type": "code",
   "execution_count": 85,
   "id": "9fd6680c",
   "metadata": {},
   "outputs": [
    {
     "data": {
      "text/plain": [
       "[0, 7, 3, 9, 10]"
      ]
     },
     "execution_count": 85,
     "metadata": {},
     "output_type": "execute_result"
    }
   ],
   "source": [
    "# Adding\n",
    "List.append(10)\n",
    "List"
   ]
  },
  {
   "cell_type": "code",
   "execution_count": 86,
   "id": "bc301d38",
   "metadata": {},
   "outputs": [
    {
     "data": {
      "text/plain": [
       "[0, 3, 7, 9, 10]"
      ]
     },
     "execution_count": 86,
     "metadata": {},
     "output_type": "execute_result"
    }
   ],
   "source": [
    "#Sorting\n",
    "List.sort()\n",
    "List"
   ]
  },
  {
   "cell_type": "code",
   "execution_count": 87,
   "id": "509c8214",
   "metadata": {},
   "outputs": [
    {
     "data": {
      "text/plain": [
       "[0, 3, 7, 9, 10]"
      ]
     },
     "execution_count": 87,
     "metadata": {},
     "output_type": "execute_result"
    }
   ],
   "source": [
    "#SLICING\n",
    "List[0:]"
   ]
  },
  {
   "cell_type": "code",
   "execution_count": 88,
   "id": "e01929ee",
   "metadata": {},
   "outputs": [
    {
     "data": {
      "text/plain": [
       "[10, 9, 7, 3, 0]"
      ]
     },
     "execution_count": 88,
     "metadata": {},
     "output_type": "execute_result"
    }
   ],
   "source": [
    "List[::-1]"
   ]
  },
  {
   "cell_type": "code",
   "execution_count": 89,
   "id": "6fdfac21",
   "metadata": {},
   "outputs": [
    {
     "data": {
      "text/plain": [
       "[0, 3, 7, 9, 10]"
      ]
     },
     "execution_count": 89,
     "metadata": {},
     "output_type": "execute_result"
    }
   ],
   "source": [
    "List[-5:]"
   ]
  },
  {
   "cell_type": "code",
   "execution_count": 90,
   "id": "afb5514d",
   "metadata": {},
   "outputs": [
    {
     "data": {
      "text/plain": [
       "[0, 7, 10]"
      ]
     },
     "execution_count": 90,
     "metadata": {},
     "output_type": "execute_result"
    }
   ],
   "source": [
    "List[::2]"
   ]
  },
  {
   "cell_type": "markdown",
   "id": "0623ffef",
   "metadata": {},
   "source": [
    "### Loops"
   ]
  },
  {
   "cell_type": "code",
   "execution_count": 91,
   "id": "842561c4",
   "metadata": {},
   "outputs": [
    {
     "name": "stdout",
     "output_type": "stream",
     "text": [
      "Inside while loop\n",
      "Inside while loop\n",
      "Inside while loop\n",
      "In Else Block\n"
     ]
    }
   ],
   "source": [
    "count = 0\n",
    "while (count < 3):\n",
    "    count = count + 1\n",
    "    print(\"Inside while loop\")\n",
    "else:\n",
    "    print(\"In Else Block\")"
   ]
  },
  {
   "cell_type": "code",
   "execution_count": 92,
   "id": "7cd6c460",
   "metadata": {},
   "outputs": [
    {
     "name": "stdout",
     "output_type": "stream",
     "text": [
      "0\n",
      "4\n",
      "8\n"
     ]
    }
   ],
   "source": [
    "for i in range(0, 10, 4):\n",
    "    print(i)"
   ]
  },
  {
   "cell_type": "code",
   "execution_count": 93,
   "id": "211292c7",
   "metadata": {},
   "outputs": [
    {
     "name": "stdout",
     "output_type": "stream",
     "text": [
      "0\n",
      "3\n",
      "7\n",
      "9\n",
      "10\n"
     ]
    }
   ],
   "source": [
    "for i in List:\n",
    "    print(i)"
   ]
  },
  {
   "cell_type": "markdown",
   "id": "4996739f",
   "metadata": {},
   "source": [
    "## Tuple"
   ]
  },
  {
   "cell_type": "markdown",
   "id": "ce74b8a1",
   "metadata": {},
   "source": [
    "#### The primary difference between tuples and lists is that tuples are immutable as opposed to lists which are mutable"
   ]
  },
  {
   "cell_type": "code",
   "execution_count": 96,
   "id": "65c7e7ed",
   "metadata": {},
   "outputs": [
    {
     "data": {
      "text/plain": [
       "(1, 2, 3)"
      ]
     },
     "execution_count": 96,
     "metadata": {},
     "output_type": "execute_result"
    }
   ],
   "source": [
    "T = (1,2,3)\n",
    "T"
   ]
  },
  {
   "cell_type": "code",
   "execution_count": 97,
   "id": "aabae8a3",
   "metadata": {},
   "outputs": [
    {
     "data": {
      "text/plain": [
       "1"
      ]
     },
     "execution_count": 97,
     "metadata": {},
     "output_type": "execute_result"
    }
   ],
   "source": [
    "T[0]"
   ]
  },
  {
   "cell_type": "code",
   "execution_count": 98,
   "id": "f8b71f1d",
   "metadata": {},
   "outputs": [
    {
     "ename": "TypeError",
     "evalue": "'tuple' object does not support item assignment",
     "output_type": "error",
     "traceback": [
      "\u001b[1;31m---------------------------------------------------------------------------\u001b[0m",
      "\u001b[1;31mTypeError\u001b[0m                                 Traceback (most recent call last)",
      "\u001b[1;32m~\\AppData\\Local\\Temp\\ipykernel_3220\\2730182932.py\u001b[0m in \u001b[0;36m<module>\u001b[1;34m\u001b[0m\n\u001b[1;32m----> 1\u001b[1;33m \u001b[0mT\u001b[0m\u001b[1;33m[\u001b[0m\u001b[1;36m0\u001b[0m\u001b[1;33m]\u001b[0m\u001b[1;33m=\u001b[0m\u001b[1;36m1\u001b[0m\u001b[1;33m\u001b[0m\u001b[1;33m\u001b[0m\u001b[0m\n\u001b[0m",
      "\u001b[1;31mTypeError\u001b[0m: 'tuple' object does not support item assignment"
     ]
    }
   ],
   "source": [
    "T[0]=1"
   ]
  },
  {
   "cell_type": "code",
   "execution_count": 99,
   "id": "a953b70e",
   "metadata": {},
   "outputs": [
    {
     "ename": "AttributeError",
     "evalue": "'tuple' object has no attribute 'append'",
     "output_type": "error",
     "traceback": [
      "\u001b[1;31m---------------------------------------------------------------------------\u001b[0m",
      "\u001b[1;31mAttributeError\u001b[0m                            Traceback (most recent call last)",
      "\u001b[1;32m~\\AppData\\Local\\Temp\\ipykernel_3220\\2459554550.py\u001b[0m in \u001b[0;36m<module>\u001b[1;34m\u001b[0m\n\u001b[1;32m----> 1\u001b[1;33m \u001b[0mT\u001b[0m\u001b[1;33m.\u001b[0m\u001b[0mappend\u001b[0m\u001b[1;33m(\u001b[0m\u001b[1;36m2\u001b[0m\u001b[1;33m)\u001b[0m\u001b[1;33m\u001b[0m\u001b[1;33m\u001b[0m\u001b[0m\n\u001b[0m",
      "\u001b[1;31mAttributeError\u001b[0m: 'tuple' object has no attribute 'append'"
     ]
    }
   ],
   "source": [
    "T.append(2)"
   ]
  },
  {
   "cell_type": "code",
   "execution_count": 100,
   "id": "d418f48b",
   "metadata": {},
   "outputs": [],
   "source": [
    "# Hence we cannot change the values "
   ]
  },
  {
   "cell_type": "code",
   "execution_count": 104,
   "id": "deac634d",
   "metadata": {},
   "outputs": [
    {
     "data": {
      "text/plain": [
       "('o', 'n', 'e')"
      ]
     },
     "execution_count": 104,
     "metadata": {},
     "output_type": "execute_result"
    }
   ],
   "source": [
    "T1 = tuple('one')\n",
    "T1"
   ]
  },
  {
   "cell_type": "code",
   "execution_count": 105,
   "id": "3a41382b",
   "metadata": {},
   "outputs": [
    {
     "name": "stdout",
     "output_type": "stream",
     "text": [
      "(1, 2, 3, 'o', 'n', 'e')\n"
     ]
    }
   ],
   "source": [
    "print(T + T1)"
   ]
  },
  {
   "cell_type": "code",
   "execution_count": null,
   "id": "e22076af",
   "metadata": {},
   "outputs": [],
   "source": []
  }
 ],
 "metadata": {
  "kernelspec": {
   "display_name": "Python 3 (ipykernel)",
   "language": "python",
   "name": "python3"
  },
  "language_info": {
   "codemirror_mode": {
    "name": "ipython",
    "version": 3
   },
   "file_extension": ".py",
   "mimetype": "text/x-python",
   "name": "python",
   "nbconvert_exporter": "python",
   "pygments_lexer": "ipython3",
   "version": "3.9.13"
  }
 },
 "nbformat": 4,
 "nbformat_minor": 5
}
