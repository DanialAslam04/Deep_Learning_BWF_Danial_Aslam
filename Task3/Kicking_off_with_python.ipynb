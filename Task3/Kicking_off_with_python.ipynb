{
 "cells": [
  {
   "cell_type": "code",
   "execution_count": 1,
   "id": "52213275",
   "metadata": {},
   "outputs": [
    {
     "name": "stdout",
     "output_type": "stream",
     "text": [
      "Bytewise fellowship---> Task3\n"
     ]
    }
   ],
   "source": [
    "#Simple Print \n",
    "print(\"Bytewise fellowship---> Task3\")"
   ]
  },
  {
   "cell_type": "markdown",
   "id": "28d46180",
   "metadata": {},
   "source": [
    "### DataTypes and Variables"
   ]
  },
  {
   "cell_type": "code",
   "execution_count": 7,
   "id": "7c1377aa",
   "metadata": {},
   "outputs": [
    {
     "name": "stdout",
     "output_type": "stream",
     "text": [
      "<class 'int'>\n",
      "<class 'float'>\n",
      "<class 'complex'>\n",
      "<class 'complex'> (2+2j)\n"
     ]
    }
   ],
   "source": [
    "#Numeric Datatypes\n",
    "n1=2\n",
    "n2=2.22\n",
    "n3=2j\n",
    "n4=n1+n3\n",
    "print(type(n1))\n",
    "print(type(n2))\n",
    "print(type(n3))\n",
    "print(type(n4),n4)\n"
   ]
  },
  {
   "cell_type": "code",
   "execution_count": 11,
   "id": "18ea4c8b",
   "metadata": {},
   "outputs": [
    {
     "name": "stdout",
     "output_type": "stream",
     "text": [
      "Muhammad Danial\n"
     ]
    }
   ],
   "source": [
    "# STring\n",
    "\n",
    "ch = 'Muhammad '\n",
    "Name = \"Danial\"\n",
    "print(ch + Name)"
   ]
  },
  {
   "cell_type": "code",
   "execution_count": 13,
   "id": "32d0be78",
   "metadata": {},
   "outputs": [
    {
     "name": "stdout",
     "output_type": "stream",
     "text": [
      "True\n",
      "False\n"
     ]
    }
   ],
   "source": [
    "# BOol\n",
    "\n",
    "b1= True\n",
    "b2= False\n",
    "print(b1 | b2)\n",
    "print(b1 & b2)"
   ]
  },
  {
   "cell_type": "code",
   "execution_count": null,
   "id": "9870b243",
   "metadata": {},
   "outputs": [],
   "source": []
  }
 ],
 "metadata": {
  "kernelspec": {
   "display_name": "Python 3 (ipykernel)",
   "language": "python",
   "name": "python3"
  },
  "language_info": {
   "codemirror_mode": {
    "name": "ipython",
    "version": 3
   },
   "file_extension": ".py",
   "mimetype": "text/x-python",
   "name": "python",
   "nbconvert_exporter": "python",
   "pygments_lexer": "ipython3",
   "version": "3.9.13"
  }
 },
 "nbformat": 4,
 "nbformat_minor": 5
}
