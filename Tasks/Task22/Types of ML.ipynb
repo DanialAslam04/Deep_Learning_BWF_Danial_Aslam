{
 "cells": [
  {
   "cell_type": "markdown",
   "id": "574afcd4",
   "metadata": {},
   "source": [
    "# <-- TASK 22 -->"
   ]
  },
  {
   "cell_type": "markdown",
   "id": "7df514e0",
   "metadata": {},
   "source": [
    "## Supervised Learning\n",
    "\n",
    "Consists of learning to map input data to known targets using a set of annotated examples\n",
    "\n",
    "Examples include optical character recognition, speech recognition, image classification, and language translation, sequence generation, syntax tree prediction, object detection, and image segmentation\n",
    "\n",
    "## Unsupervised Learning\n",
    "\n",
    "Consists of finding interesting transformations of input data without the help of any targets Used for data visualization, data compression, or data denoising, or to better understand the correlations present in the data\n",
    "\n",
    "Examples of unsupervised learning include dimensionality reduction and clustering\n",
    "\n",
    "## Self-Supervised Learning\n",
    "\n",
    "Similar to supervised learning, but labels are generated from the input data using heuristic algorithms instead of being annotated by humans\n",
    "\n",
    "Examples of self-supervised learning include autoencoders, predicting the next frame in a video, or the next word in a text\n",
    "\n",
    "## Reinforcement Learning\n",
    "\n",
    "Agent receives information about its environment and learns to choose actions that will maximize some reward\n",
    "\n",
    "Examples include training a neural network to output game actions to maximize its score in a video game\n",
    "Currently mostly a research area but has potential for real-world applications in self-driving cars, robotics, resource management, and education"
   ]
  }
 ],
 "metadata": {
  "kernelspec": {
   "display_name": "Python 3 (ipykernel)",
   "language": "python",
   "name": "python3"
  },
  "language_info": {
   "codemirror_mode": {
    "name": "ipython",
    "version": 3
   },
   "file_extension": ".py",
   "mimetype": "text/x-python",
   "name": "python",
   "nbconvert_exporter": "python",
   "pygments_lexer": "ipython3",
   "version": "3.9.13"
  }
 },
 "nbformat": 4,
 "nbformat_minor": 5
}
