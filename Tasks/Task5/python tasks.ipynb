{
 "cells": [
  {
   "cell_type": "markdown",
   "id": "d6ce66e3",
   "metadata": {},
   "source": [
    "## 1. Enumerate() Function\n"
   ]
  },
  {
   "cell_type": "markdown",
   "id": "4f3ad7b1",
   "metadata": {},
   "source": [
    "Enumerate() method adds a counter to an iterable and returns it in a form of enumerating object Often, when dealing with iterators, we also get need to keep a count of iterations. Python eases the programmers’ task by providing a built-in function enumerate() for this task."
   ]
  },
  {
   "cell_type": "code",
   "execution_count": 25,
   "id": "c539cc65",
   "metadata": {},
   "outputs": [
    {
     "data": {
      "text/plain": [
       "['Zero', 'One', 'Two']"
      ]
     },
     "execution_count": 25,
     "metadata": {},
     "output_type": "execute_result"
    }
   ],
   "source": [
    "l1=['Zero','One','Two']\n",
    "l1"
   ]
  },
  {
   "cell_type": "code",
   "execution_count": 30,
   "id": "3ec5ffb1",
   "metadata": {},
   "outputs": [
    {
     "name": "stdout",
     "output_type": "stream",
     "text": [
      "[(2, 'Zero'), (3, 'One'), (4, 'Two')]\n"
     ]
    }
   ],
   "source": [
    "enum=enumerate(l1)\n",
    "enum_lst= (list(enum))\n",
    "print(enum_lst)"
   ]
  },
  {
   "cell_type": "code",
   "execution_count": 29,
   "id": "092a0712",
   "metadata": {},
   "outputs": [
    {
     "name": "stdout",
     "output_type": "stream",
     "text": [
      "(0, 'Zero')\n",
      "(1, 'One')\n",
      "(2, 'Two')\n"
     ]
    }
   ],
   "source": [
    "for i in enum_lst:\n",
    "    print(i)"
   ]
  },
  {
   "cell_type": "markdown",
   "id": "bbc5b93b",
   "metadata": {},
   "source": [
    "#### changing start index to 10 from 0"
   ]
  },
  {
   "cell_type": "code",
   "execution_count": 33,
   "id": "3488791b",
   "metadata": {},
   "outputs": [
    {
     "name": "stdout",
     "output_type": "stream",
     "text": [
      "[(10, 'Zero'), (11, 'One'), (12, 'Two')]\n"
     ]
    }
   ],
   "source": [
    "enum=enumerate(l1,10)\n",
    "print(list(enum))"
   ]
  },
  {
   "cell_type": "markdown",
   "id": "0b4288f4",
   "metadata": {},
   "source": [
    "#### using with loops"
   ]
  },
  {
   "cell_type": "code",
   "execution_count": 35,
   "id": "34bfacc0",
   "metadata": {},
   "outputs": [
    {
     "name": "stdout",
     "output_type": "stream",
     "text": [
      "0\n",
      "Zero\n",
      "1\n",
      "One\n",
      "2\n",
      "Two\n"
     ]
    }
   ],
   "source": [
    "for count, ele in enumerate(l1):\n",
    "    print(count)\n",
    "    print (ele)"
   ]
  },
  {
   "cell_type": "markdown",
   "id": "3c0acfb5",
   "metadata": {},
   "source": [
    "## 2. Timing your code"
   ]
  },
  {
   "cell_type": "markdown",
   "id": "bc6fdbb1",
   "metadata": {},
   "source": [
    "It's a method of measuring the execution time of your python code snippets, using an in-built python library timeit."
   ]
  },
  {
   "cell_type": "code",
   "execution_count": 105,
   "id": "c97927c2",
   "metadata": {},
   "outputs": [
    {
     "name": "stdout",
     "output_type": "stream",
     "text": [
      "0.00043290000030538067\n",
      "0.002570200000263867\n"
     ]
    }
   ],
   "source": [
    "import timeit\n",
    "c1='''\n",
    "t1=(1,2,3)\n",
    "'''\n",
    "l1=[1,2,3]\n",
    "\n",
    "c2 ='''\n",
    "l2=list()\n",
    "'''\n",
    "print (timeit.timeit(stmt = c1, number = 10000))\n",
    "print (timeit.timeit(stmt = c2, number = 10000))\n",
    "\n"
   ]
  },
  {
   "cell_type": "code",
   "execution_count": 32,
   "id": "571e35b0",
   "metadata": {},
   "outputs": [
    {
     "name": "stdout",
     "output_type": "stream",
     "text": [
      "0.00025909999999385036\n"
     ]
    }
   ],
   "source": [
    "mysetup = \"from math import sqrt\"\n",
    " \n",
    "mycode = '''\n",
    "def example():\n",
    "    mylist = []\n",
    "    for x in range(100):\n",
    "        mylist.append(sqrt(x))\n",
    "'''\n",
    " \n",
    "print (timeit.timeit(setup = mysetup,\n",
    "                     stmt = mycode,\n",
    "                     number = 1000))"
   ]
  },
  {
   "cell_type": "markdown",
   "id": "6616f195",
   "metadata": {},
   "source": [
    "## 3. Taking Input"
   ]
  },
  {
   "cell_type": "code",
   "execution_count": 42,
   "id": "1a8a3e78",
   "metadata": {},
   "outputs": [
    {
     "name": "stdout",
     "output_type": "stream",
     "text": [
      "Enter number: 12\n"
     ]
    }
   ],
   "source": [
    "n1=input(\"Enter number: \")"
   ]
  },
  {
   "cell_type": "code",
   "execution_count": 43,
   "id": "6fbae8f7",
   "metadata": {},
   "outputs": [
    {
     "ename": "TypeError",
     "evalue": "can only concatenate str (not \"int\") to str",
     "output_type": "error",
     "traceback": [
      "\u001b[1;31m---------------------------------------------------------------------------\u001b[0m",
      "\u001b[1;31mTypeError\u001b[0m                                 Traceback (most recent call last)",
      "\u001b[1;32m~\\AppData\\Local\\Temp\\ipykernel_9348\\1185775889.py\u001b[0m in \u001b[0;36m<module>\u001b[1;34m\u001b[0m\n\u001b[1;32m----> 1\u001b[1;33m \u001b[0mn1\u001b[0m\u001b[1;33m+\u001b[0m\u001b[1;36m1\u001b[0m\u001b[1;33m\u001b[0m\u001b[1;33m\u001b[0m\u001b[0m\n\u001b[0m",
      "\u001b[1;31mTypeError\u001b[0m: can only concatenate str (not \"int\") to str"
     ]
    }
   ],
   "source": [
    "n1+1"
   ]
  },
  {
   "cell_type": "markdown",
   "id": "91a45602",
   "metadata": {},
   "source": [
    "#### It's because n1 is a variable that will get the string value, typed by the user during the execution of the program."
   ]
  },
  {
   "cell_type": "code",
   "execution_count": 45,
   "id": "8102e52c",
   "metadata": {},
   "outputs": [
    {
     "name": "stdout",
     "output_type": "stream",
     "text": [
      "Enter number: 12\n"
     ]
    }
   ],
   "source": [
    "n1=int(input(\"Enter number: \"))"
   ]
  },
  {
   "cell_type": "code",
   "execution_count": 46,
   "id": "5e5a8093",
   "metadata": {},
   "outputs": [
    {
     "data": {
      "text/plain": [
       "14"
      ]
     },
     "execution_count": 46,
     "metadata": {},
     "output_type": "execute_result"
    }
   ],
   "source": [
    "n1+2"
   ]
  },
  {
   "cell_type": "code",
   "execution_count": 47,
   "id": "94241b49",
   "metadata": {},
   "outputs": [
    {
     "name": "stdout",
     "output_type": "stream",
     "text": [
      "Enter your name: Muhammad Danial Aslam\n"
     ]
    }
   ],
   "source": [
    "Name = input(\"Enter your name: \")"
   ]
  },
  {
   "cell_type": "code",
   "execution_count": 54,
   "id": "94839095",
   "metadata": {},
   "outputs": [
    {
     "name": "stdout",
     "output_type": "stream",
     "text": [
      "Enter Number: 1\n",
      "1\n",
      "Enter Number: 2\n",
      "4\n",
      "Enter Number: 3\n",
      "9\n",
      "Enter Number: 4\n",
      "16\n",
      "[1, 2, 3, 4]\n"
     ]
    }
   ],
   "source": [
    "# taking list as input\n",
    "l=[]\n",
    "for i in range(1,5):\n",
    "    n=int(input(\"Enter Number: \"))\n",
    "    l.append(n)\n",
    "    print(n*n)\n",
    "    \n",
    "print(l)"
   ]
  },
  {
   "cell_type": "markdown",
   "id": "9787d71d",
   "metadata": {},
   "source": [
    "## 4. Conditionals"
   ]
  },
  {
   "cell_type": "code",
   "execution_count": 55,
   "id": "21ba785a",
   "metadata": {},
   "outputs": [
    {
     "name": "stdout",
     "output_type": "stream",
     "text": [
      "No\n"
     ]
    }
   ],
   "source": [
    "if (5>6):\n",
    "    print('Y')\n",
    "else: \n",
    "    print ('No')\n"
   ]
  },
  {
   "cell_type": "code",
   "execution_count": 56,
   "id": "43908d8e",
   "metadata": {},
   "outputs": [
    {
     "name": "stdout",
     "output_type": "stream",
     "text": [
      "2\n"
     ]
    }
   ],
   "source": [
    "if (5>6):\n",
    "    print('1')\n",
    "elif (6>5) : \n",
    "    print (2)\n"
   ]
  },
  {
   "cell_type": "code",
   "execution_count": 62,
   "id": "a997967d",
   "metadata": {},
   "outputs": [
    {
     "name": "stdout",
     "output_type": "stream",
     "text": [
      "3\n"
     ]
    }
   ],
   "source": [
    "if (5>6):\n",
    "    print('1')\n",
    "elif (6==5) : \n",
    "    print (2)\n",
    "else: print (3) "
   ]
  },
  {
   "cell_type": "code",
   "execution_count": 63,
   "id": "f13b7aa3",
   "metadata": {},
   "outputs": [
    {
     "name": "stdout",
     "output_type": "stream",
     "text": [
      "Yes\n"
     ]
    }
   ],
   "source": [
    "if (6>5) and (5>4):\n",
    "    print('Yes')"
   ]
  },
  {
   "cell_type": "code",
   "execution_count": 67,
   "id": "bd8f793e",
   "metadata": {},
   "outputs": [
    {
     "name": "stdout",
     "output_type": "stream",
     "text": [
      "Yes\n"
     ]
    }
   ],
   "source": [
    "if (6>5) or (1>4):\n",
    "    print('Yes')"
   ]
  },
  {
   "cell_type": "code",
   "execution_count": 69,
   "id": "99eec2e1",
   "metadata": {},
   "outputs": [
    {
     "name": "stdout",
     "output_type": "stream",
     "text": [
      "NO\n"
     ]
    }
   ],
   "source": [
    "if (6<5) or (1>4):\n",
    "    print('Yes')\n",
    "else:\n",
    "    print('NO')"
   ]
  },
  {
   "cell_type": "code",
   "execution_count": 93,
   "id": "0b19fcba",
   "metadata": {},
   "outputs": [
    {
     "name": "stdout",
     "output_type": "stream",
     "text": [
      "I don't know who you are!\n"
     ]
    }
   ],
   "source": [
    "name = 'asd'\n",
    "if name == 'Fred':\n",
    "    print('Hello Fred')\n",
    "elif name == 'Xander':\n",
    "    print('Hello Xander')\n",
    "elif name == 'Joe':\n",
    "    print('Hello Joe')\n",
    "elif name == 'Arnold':\n",
    "    print('Hello Arnold')\n",
    "else:\n",
    "    print(\"I don't know who you are!\")\n",
    "\n"
   ]
  },
  {
   "cell_type": "code",
   "execution_count": 71,
   "id": "f6a509a8",
   "metadata": {},
   "outputs": [
    {
     "name": "stdout",
     "output_type": "stream",
     "text": [
      "B\n"
     ]
    }
   ],
   "source": [
    "#Short Hand If ... Else\n",
    "a = 2\n",
    "b = 330\n",
    "print(\"A\") if a > b else print(\"B\")\n"
   ]
  },
  {
   "cell_type": "markdown",
   "id": "0e451c0e",
   "metadata": {},
   "source": [
    "# 5. Sets"
   ]
  },
  {
   "cell_type": "code",
   "execution_count": 73,
   "id": "cc885fa4",
   "metadata": {},
   "outputs": [
    {
     "data": {
      "text/plain": [
       "{'ali', 'asad', 'isra'}"
      ]
     },
     "execution_count": 73,
     "metadata": {},
     "output_type": "execute_result"
    }
   ],
   "source": [
    "name = {'ali','isra','asad'}\n",
    "name"
   ]
  },
  {
   "cell_type": "code",
   "execution_count": 77,
   "id": "2b5df0b1",
   "metadata": {},
   "outputs": [
    {
     "data": {
      "text/plain": [
       "{'ali', 'arif', 'asad', 'beef', 'iqra', 'isra'}"
      ]
     },
     "execution_count": 77,
     "metadata": {},
     "output_type": "execute_result"
    }
   ],
   "source": [
    "name.add('iqra')\n",
    "name.add('arif')\n",
    "name.add('beef')\n",
    "name"
   ]
  },
  {
   "cell_type": "code",
   "execution_count": 80,
   "id": "ca6dc3c8",
   "metadata": {},
   "outputs": [
    {
     "data": {
      "text/plain": [
       "frozenset({1, 2, 3})"
      ]
     },
     "execution_count": 80,
     "metadata": {},
     "output_type": "execute_result"
    }
   ],
   "source": [
    "l1=[1,2,3]\n",
    "num= frozenset(l1)\n",
    "num"
   ]
  },
  {
   "cell_type": "code",
   "execution_count": 81,
   "id": "13f96671",
   "metadata": {},
   "outputs": [
    {
     "ename": "AttributeError",
     "evalue": "'frozenset' object has no attribute 'add'",
     "output_type": "error",
     "traceback": [
      "\u001b[1;31m---------------------------------------------------------------------------\u001b[0m",
      "\u001b[1;31mAttributeError\u001b[0m                            Traceback (most recent call last)",
      "\u001b[1;32m~\\AppData\\Local\\Temp\\ipykernel_9348\\3644972721.py\u001b[0m in \u001b[0;36m<module>\u001b[1;34m\u001b[0m\n\u001b[1;32m----> 1\u001b[1;33m \u001b[0mnum\u001b[0m\u001b[1;33m.\u001b[0m\u001b[0madd\u001b[0m\u001b[1;33m(\u001b[0m\u001b[1;36m2\u001b[0m\u001b[1;33m)\u001b[0m\u001b[1;33m\u001b[0m\u001b[1;33m\u001b[0m\u001b[0m\n\u001b[0m",
      "\u001b[1;31mAttributeError\u001b[0m: 'frozenset' object has no attribute 'add'"
     ]
    }
   ],
   "source": [
    "num.add(2)"
   ]
  },
  {
   "cell_type": "markdown",
   "id": "e3940262",
   "metadata": {},
   "source": [
    "#### Can't add to frozen sets"
   ]
  },
  {
   "cell_type": "markdown",
   "id": "6892c0ee",
   "metadata": {},
   "source": [
    "### Union "
   ]
  },
  {
   "cell_type": "code",
   "execution_count": 87,
   "id": "47a0c38c",
   "metadata": {},
   "outputs": [
    {
     "data": {
      "text/plain": [
       "{1, 2, 4, 5, 6, 9, 81, 91}"
      ]
     },
     "execution_count": 87,
     "metadata": {},
     "output_type": "execute_result"
    }
   ],
   "source": [
    "s1={1,2,2,9}\n",
    "s2={4,5,6,2,4}\n",
    "s3={91,81}\n",
    "num=s1|s2|s3\n",
    "num"
   ]
  },
  {
   "cell_type": "code",
   "execution_count": 86,
   "id": "152dc746",
   "metadata": {},
   "outputs": [
    {
     "data": {
      "text/plain": [
       "{1, 2, 4, 5, 6, 9}"
      ]
     },
     "execution_count": 86,
     "metadata": {},
     "output_type": "execute_result"
    }
   ],
   "source": [
    "num = s1.union(s2)\n",
    "num"
   ]
  },
  {
   "cell_type": "code",
   "execution_count": 89,
   "id": "fc5281d6",
   "metadata": {},
   "outputs": [
    {
     "name": "stdout",
     "output_type": "stream",
     "text": [
      "{'asad', 'ali', 'iqra'}\n"
     ]
    }
   ],
   "source": [
    "st1 = {'ali', 'iqra'}\n",
    "st2 = {'ali','asad'}\n",
    "print(st1|st2)"
   ]
  },
  {
   "cell_type": "markdown",
   "id": "f95322ab",
   "metadata": {},
   "source": [
    "### Intersection"
   ]
  },
  {
   "cell_type": "code",
   "execution_count": 90,
   "id": "ba439bb0",
   "metadata": {},
   "outputs": [
    {
     "name": "stdout",
     "output_type": "stream",
     "text": [
      "{2}\n"
     ]
    }
   ],
   "source": [
    "print(s1.intersection(s2))"
   ]
  },
  {
   "cell_type": "code",
   "execution_count": 91,
   "id": "b6be9880",
   "metadata": {},
   "outputs": [
    {
     "name": "stdout",
     "output_type": "stream",
     "text": [
      "{'ali'}\n"
     ]
    }
   ],
   "source": [
    "print(st1.intersection(st2))"
   ]
  },
  {
   "cell_type": "markdown",
   "id": "6aea726d",
   "metadata": {},
   "source": [
    "### Difference\n"
   ]
  },
  {
   "cell_type": "code",
   "execution_count": 94,
   "id": "95ed76c3",
   "metadata": {},
   "outputs": [
    {
     "name": "stdout",
     "output_type": "stream",
     "text": [
      "{1, 9}\n"
     ]
    }
   ],
   "source": [
    "print(s1-s2)"
   ]
  },
  {
   "cell_type": "code",
   "execution_count": 95,
   "id": "52c27e02",
   "metadata": {},
   "outputs": [
    {
     "name": "stdout",
     "output_type": "stream",
     "text": [
      "{'iqra'}\n"
     ]
    }
   ],
   "source": [
    "print(st1-st2)"
   ]
  },
  {
   "cell_type": "markdown",
   "id": "45dac326",
   "metadata": {},
   "source": [
    "### Symmetric Difference"
   ]
  },
  {
   "cell_type": "code",
   "execution_count": 96,
   "id": "2d83c636",
   "metadata": {},
   "outputs": [
    {
     "name": "stdout",
     "output_type": "stream",
     "text": [
      "{1, 4, 5, 6, 9}\n"
     ]
    }
   ],
   "source": [
    "print(s1^s2)"
   ]
  },
  {
   "cell_type": "code",
   "execution_count": 97,
   "id": "19ae6464",
   "metadata": {},
   "outputs": [
    {
     "name": "stdout",
     "output_type": "stream",
     "text": [
      "{'asad', 'iqra'}\n"
     ]
    }
   ],
   "source": [
    "print(st1^st2)"
   ]
  },
  {
   "cell_type": "markdown",
   "id": "90367f23",
   "metadata": {},
   "source": [
    "###  Making Data Unique with Sets"
   ]
  },
  {
   "cell_type": "code",
   "execution_count": 101,
   "id": "df78dde1",
   "metadata": {},
   "outputs": [
    {
     "data": {
      "text/plain": [
       "{1, 2, 3, 4, 5}"
      ]
     },
     "execution_count": 101,
     "metadata": {},
     "output_type": "execute_result"
    }
   ],
   "source": [
    "l=[1,1,1,2,2,2,3,4,3,3,4,4,5]\n",
    "s=set(l)\n",
    "s"
   ]
  },
  {
   "cell_type": "code",
   "execution_count": null,
   "id": "090e51fe",
   "metadata": {},
   "outputs": [],
   "source": []
  }
 ],
 "metadata": {
  "kernelspec": {
   "display_name": "Python 3 (ipykernel)",
   "language": "python",
   "name": "python3"
  },
  "language_info": {
   "codemirror_mode": {
    "name": "ipython",
    "version": 3
   },
   "file_extension": ".py",
   "mimetype": "text/x-python",
   "name": "python",
   "nbconvert_exporter": "python",
   "pygments_lexer": "ipython3",
   "version": "3.9.13"
  }
 },
 "nbformat": 4,
 "nbformat_minor": 5
}
