{
 "cells": [
  {
   "cell_type": "markdown",
   "id": "63d63789",
   "metadata": {},
   "source": [
    "## Functions"
   ]
  },
  {
   "cell_type": "code",
   "execution_count": 1,
   "id": "af8a1934",
   "metadata": {},
   "outputs": [],
   "source": [
    "def func():\n",
    "    print('Hello there')"
   ]
  },
  {
   "cell_type": "code",
   "execution_count": 2,
   "id": "4ea09523",
   "metadata": {},
   "outputs": [
    {
     "name": "stdout",
     "output_type": "stream",
     "text": [
      "Hello there\n"
     ]
    }
   ],
   "source": [
    "func()"
   ]
  },
  {
   "cell_type": "code",
   "execution_count": 30,
   "id": "27c1d233",
   "metadata": {},
   "outputs": [],
   "source": [
    "# func to add two nums\n",
    "\n",
    "def add(n1: int , n2: int)-> int:\n",
    "    return n1+n2\n",
    "    "
   ]
  },
  {
   "cell_type": "code",
   "execution_count": 29,
   "id": "9d88124e",
   "metadata": {},
   "outputs": [
    {
     "name": "stdout",
     "output_type": "stream",
     "text": [
      "20 <class 'int'>\n"
     ]
    }
   ],
   "source": [
    "sum = add(10,10)\n",
    "print(sum,type(sum))"
   ]
  },
  {
   "cell_type": "markdown",
   "id": "6ad3266f",
   "metadata": {},
   "source": [
    "### Arguments"
   ]
  },
  {
   "cell_type": "markdown",
   "id": "fc6346ef",
   "metadata": {},
   "source": [
    "#### Default Arguments"
   ]
  },
  {
   "cell_type": "code",
   "execution_count": 41,
   "id": "fa4124dd",
   "metadata": {},
   "outputs": [],
   "source": [
    "def fun(x, y=5,z=1):\n",
    "    return x+y+z"
   ]
  },
  {
   "cell_type": "code",
   "execution_count": 42,
   "id": "185645ae",
   "metadata": {},
   "outputs": [
    {
     "name": "stdout",
     "output_type": "stream",
     "text": [
      "6\n"
     ]
    }
   ],
   "source": [
    "print(fun(1,2,3))"
   ]
  },
  {
   "cell_type": "markdown",
   "id": "f0ce585d",
   "metadata": {},
   "source": [
    "Note: But once we have a default argument, all the arguments to its right must also have default values. "
   ]
  },
  {
   "cell_type": "markdown",
   "id": "fe8d077a",
   "metadata": {},
   "source": [
    "#### Keyword Arguments\n",
    "The idea is to allow the caller to specify the argument name with values"
   ]
  },
  {
   "cell_type": "code",
   "execution_count": 44,
   "id": "07621a73",
   "metadata": {},
   "outputs": [
    {
     "name": "stdout",
     "output_type": "stream",
     "text": [
      "6\n"
     ]
    }
   ],
   "source": [
    "print(fun(z= 1,x=2,y = 3))"
   ]
  },
  {
   "cell_type": "markdown",
   "id": "d7cbd578",
   "metadata": {},
   "source": [
    "#### Arbitrary Keyword"
   ]
  },
  {
   "cell_type": "markdown",
   "id": "d021aacf",
   "metadata": {},
   "source": [
    "We can pass a variable number of arguments to a function using special symbols.m"
   ]
  },
  {
   "cell_type": "code",
   "execution_count": 7,
   "id": "486862cf",
   "metadata": {},
   "outputs": [],
   "source": [
    "# *args\n",
    "def data(name, *stat):\n",
    "    print(name+'\\n')\n",
    "    for i in stat:\n",
    "        print (i)"
   ]
  },
  {
   "cell_type": "code",
   "execution_count": 8,
   "id": "9d383300",
   "metadata": {},
   "outputs": [
    {
     "name": "stdout",
     "output_type": "stream",
     "text": [
      "danial\n",
      "\n",
      "65\n",
      "IBD\n",
      "1234\n"
     ]
    }
   ],
   "source": [
    "data('danial' , 65 , 'IBD' , 1234 )"
   ]
  },
  {
   "cell_type": "markdown",
   "id": "b7abd814",
   "metadata": {},
   "source": [
    "**Kargs is used to pass a keyworded, variable-length argument list."
   ]
  },
  {
   "cell_type": "code",
   "execution_count": 21,
   "id": "dd645d6b",
   "metadata": {},
   "outputs": [],
   "source": [
    "# **Kargs\n",
    "def data(name, **stat):\n",
    "    print(name+'\\n')\n",
    "    for i,j in stat.items():\n",
    "        print (i,':',j)"
   ]
  },
  {
   "cell_type": "code",
   "execution_count": 22,
   "id": "abbb5fc9",
   "metadata": {},
   "outputs": [
    {
     "name": "stdout",
     "output_type": "stream",
     "text": [
      "danial\n",
      "\n",
      "age : 65\n",
      "city : IBD\n",
      "No : 1234\n"
     ]
    }
   ],
   "source": [
    "data('danial' , age= 65 ,city='IBD' ,No= 1234 )"
   ]
  },
  {
   "cell_type": "markdown",
   "id": "63bbed0c",
   "metadata": {},
   "source": [
    "#### Docstring\n",
    "The first string after the function is called the Document string or Docstring in short. This is used to describe the functionality of the function"
   ]
  },
  {
   "cell_type": "code",
   "execution_count": 23,
   "id": "3a0f4561",
   "metadata": {},
   "outputs": [],
   "source": [
    "def add(n1: int , n2: int)-> int:\n",
    "    '''Function to add two numbers'''\n",
    "    return n1+n2"
   ]
  },
  {
   "cell_type": "markdown",
   "id": "72e9f5ce",
   "metadata": {},
   "source": [
    "#### Anonymous Func"
   ]
  },
  {
   "cell_type": "code",
   "execution_count": 31,
   "id": "e1088354",
   "metadata": {},
   "outputs": [],
   "source": [
    "mul= lambda n,t: n*t"
   ]
  },
  {
   "cell_type": "code",
   "execution_count": 32,
   "id": "3b582443",
   "metadata": {},
   "outputs": [
    {
     "data": {
      "text/plain": [
       "40"
      ]
     },
     "execution_count": 32,
     "metadata": {},
     "output_type": "execute_result"
    }
   ],
   "source": [
    "mul(8,5)"
   ]
  },
  {
   "cell_type": "markdown",
   "id": "324e6805",
   "metadata": {},
   "source": [
    "#### Return stat"
   ]
  },
  {
   "cell_type": "code",
   "execution_count": 39,
   "id": "e2bcde5d",
   "metadata": {},
   "outputs": [
    {
     "name": "stdout",
     "output_type": "stream",
     "text": [
      "[20, 999, 12, 13, 14, 15]\n"
     ]
    }
   ],
   "source": [
    "def myFun(x):\n",
    "    x[0] = 20\n",
    "    x[1] = 999\n",
    "  \n",
    "l = [10, 11, 12, 13, 14, 15]\n",
    "myFun(l)\n",
    "print(l)"
   ]
  },
  {
   "cell_type": "markdown",
   "id": "093078b5",
   "metadata": {},
   "source": [
    "When we pass a reference and change the received reference to something else, the connection between the passed and received parameter is broken."
   ]
  },
  {
   "cell_type": "code",
   "execution_count": 40,
   "id": "fbb4308a",
   "metadata": {},
   "outputs": [
    {
     "name": "stdout",
     "output_type": "stream",
     "text": [
      "[10, 11, 12, 13, 14, 15]\n"
     ]
    }
   ],
   "source": [
    "def myFun(x):\n",
    "    x = [20,10,5,0]\n",
    "    \n",
    "l = [10, 11, 12, 13, 14, 15]\n",
    "myFun(l)\n",
    "print(l)"
   ]
  },
  {
   "cell_type": "code",
   "execution_count": null,
   "id": "c14833c9",
   "metadata": {},
   "outputs": [],
   "source": []
  }
 ],
 "metadata": {
  "kernelspec": {
   "display_name": "Python 3 (ipykernel)",
   "language": "python",
   "name": "python3"
  },
  "language_info": {
   "codemirror_mode": {
    "name": "ipython",
    "version": 3
   },
   "file_extension": ".py",
   "mimetype": "text/x-python",
   "name": "python",
   "nbconvert_exporter": "python",
   "pygments_lexer": "ipython3",
   "version": "3.9.13"
  }
 },
 "nbformat": 4,
 "nbformat_minor": 5
}
