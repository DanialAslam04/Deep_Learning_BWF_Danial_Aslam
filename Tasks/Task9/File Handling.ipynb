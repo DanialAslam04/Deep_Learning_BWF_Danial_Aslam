{
 "cells": [
  {
   "cell_type": "markdown",
   "id": "8670f771",
   "metadata": {},
   "source": [
    "### File handling"
   ]
  },
  {
   "cell_type": "markdown",
   "id": "5a013300",
   "metadata": {},
   "source": [
    "###### Open"
   ]
  },
  {
   "cell_type": "code",
   "execution_count": 4,
   "id": "5643640f",
   "metadata": {},
   "outputs": [
    {
     "data": {
      "text/plain": [
       "<_io.TextIOWrapper name='file.txt' mode='r' encoding='cp1252'>"
      ]
     },
     "execution_count": 4,
     "metadata": {},
     "output_type": "execute_result"
    }
   ],
   "source": [
    "file1 = open(\"file.txt\",\"r\")\n",
    "file1"
   ]
  },
  {
   "cell_type": "markdown",
   "id": "2a7d364f",
   "metadata": {},
   "source": [
    "###### close"
   ]
  },
  {
   "cell_type": "code",
   "execution_count": 5,
   "id": "3a8a6780",
   "metadata": {},
   "outputs": [],
   "source": [
    "file1.close()"
   ]
  },
  {
   "cell_type": "markdown",
   "id": "636ab0f8",
   "metadata": {},
   "source": [
    "###### read and write"
   ]
  },
  {
   "cell_type": "code",
   "execution_count": 14,
   "id": "50d61b09",
   "metadata": {},
   "outputs": [
    {
     "name": "stdout",
     "output_type": "stream",
     "text": [
      "Output of Read function is \n",
      "Hello \n",
      "C++ \n",
      "Java\n",
      "Python \n",
      "\n",
      "\n"
     ]
    }
   ],
   "source": [
    "file1 = open(\"file.txt\",\"r+\")\n",
    "L = [\"C++ \\n\",\"Java\\n\",\"Python \\n\"]\n",
    " \n",
    "file1.write(\"Hello \\n\")\n",
    "file1.writelines(L)\n",
    "file1.close() \n",
    " \n",
    "file1 = open(\"file.txt\",\"r+\")\n",
    " \n",
    "print(\"Output of Read function is \")\n",
    "print(file1.read())\n",
    "print()"
   ]
  },
  {
   "cell_type": "code",
   "execution_count": 19,
   "id": "7b7cdad2",
   "metadata": {},
   "outputs": [
    {
     "name": "stdout",
     "output_type": "stream",
     "text": [
      "Output of Readlines after appending\n",
      "Hello \n",
      "C++ \n",
      "Java\n",
      "Python \n",
      "Scala\n",
      "R R \n",
      "\n",
      "\n"
     ]
    }
   ],
   "source": [
    "file1 = open(\"file.txt\",\"a\")#append mode\n",
    "file1.write(\"R \\n\")\n",
    "file1.close()\n",
    " \n",
    "file1 = open(\"file.txt\",\"r\")\n",
    "print(\"Output of Readlines after appending\")\n",
    "print(file1.read())\n",
    "print()\n",
    "file1.close()"
   ]
  },
  {
   "cell_type": "markdown",
   "id": "25a89070",
   "metadata": {},
   "source": [
    "#### Exception"
   ]
  },
  {
   "cell_type": "code",
   "execution_count": 5,
   "id": "bb736a28",
   "metadata": {},
   "outputs": [
    {
     "name": "stdout",
     "output_type": "stream",
     "text": [
      "dividing by zero \n",
      "1.5\n",
      "dividing by zero \n"
     ]
    }
   ],
   "source": [
    "def divide(x, y):\n",
    "    try:\n",
    "        result = x / y\n",
    "        print(result)\n",
    "    except ZeroDivisionError:\n",
    "        print(\"dividing by zero \")\n",
    " \n",
    "divide(3, 0)\n",
    "divide(3, 2)\n",
    "divide(0, 0)"
   ]
  },
  {
   "cell_type": "code",
   "execution_count": null,
   "id": "7ab3d71b",
   "metadata": {},
   "outputs": [],
   "source": []
  },
  {
   "cell_type": "code",
   "execution_count": 8,
   "id": "469f329c",
   "metadata": {},
   "outputs": [
    {
     "name": "stdout",
     "output_type": "stream",
     "text": [
      "C:  0.0\n",
      "C:  1.0\n",
      "a/b result in 0\n"
     ]
    }
   ],
   "source": [
    "def div(a , b):\n",
    "    try:\n",
    "        c = (a//b)\n",
    "    except ZeroDivisionError:\n",
    "        print (\"a/b result in 0\")\n",
    "    else:\n",
    "        print ('C: ',c)\n",
    "  \n",
    "div(2.0, 3.0)\n",
    "div(3.0, 3.0)\n",
    "div(3.0, 0)"
   ]
  },
  {
   "cell_type": "markdown",
   "id": "f5cf168b",
   "metadata": {},
   "source": [
    "###### Finally"
   ]
  },
  {
   "cell_type": "markdown",
   "id": "dc89930d",
   "metadata": {},
   "source": [
    " It is always executed after the try and except blocks"
   ]
  },
  {
   "cell_type": "code",
   "execution_count": 10,
   "id": "d352f290",
   "metadata": {},
   "outputs": [
    {
     "name": "stdout",
     "output_type": "stream",
     "text": [
      "Can't divide by zero\n",
      "This is always executed\n"
     ]
    }
   ],
   "source": [
    "try:\n",
    "    k = 5//0 \n",
    "    print(k)\n",
    "    \n",
    "except ZeroDivisionError:   \n",
    "    print(\"Can't divide by zero\")\n",
    "        \n",
    "finally:\n",
    "    print('This is always executed') "
   ]
  },
  {
   "cell_type": "code",
   "execution_count": null,
   "id": "c7c9438b",
   "metadata": {},
   "outputs": [],
   "source": []
  }
 ],
 "metadata": {
  "kernelspec": {
   "display_name": "Python 3 (ipykernel)",
   "language": "python",
   "name": "python3"
  },
  "language_info": {
   "codemirror_mode": {
    "name": "ipython",
    "version": 3
   },
   "file_extension": ".py",
   "mimetype": "text/x-python",
   "name": "python",
   "nbconvert_exporter": "python",
   "pygments_lexer": "ipython3",
   "version": "3.9.13"
  }
 },
 "nbformat": 4,
 "nbformat_minor": 5
}
