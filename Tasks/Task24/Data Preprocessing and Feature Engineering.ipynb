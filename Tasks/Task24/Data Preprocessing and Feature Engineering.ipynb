{
 "cells": [
  {
   "cell_type": "markdown",
   "id": "4f4e659b",
   "metadata": {},
   "source": [
    "# <-- Task 24 -->"
   ]
  },
  {
   "cell_type": "markdown",
   "id": "ec968bf9",
   "metadata": {},
   "source": [
    "# Data preprocessing"
   ]
  },
  {
   "cell_type": "markdown",
   "id": "c345057e",
   "metadata": {},
   "source": [
    "### Data Vectorization"
   ]
  },
  {
   "cell_type": "markdown",
   "id": "932e3499",
   "metadata": {},
   "source": [
    "All inputs and targets in a neural network must be tensors of floating-point data (or, in specific cases, tensors of integers). Whatever data you need to process—sound, images, text—you must first turn into tensors, a step called data vectorization."
   ]
  },
  {
   "cell_type": "markdown",
   "id": "b9baff1f",
   "metadata": {},
   "source": [
    "To convert data into a tensor for a deep learning model, you typically use a library like TensorFlow or PyTorch. using TensorFlow, you can convert NumPy arrays or other compatible formats directly into tensors using tf.convert_to_tensor() or tf.constant()"
   ]
  },
  {
   "cell_type": "code",
   "execution_count": 14,
   "id": "6a1a0b37",
   "metadata": {},
   "outputs": [],
   "source": [
    "import numpy as np\n",
    "import tensorflow as tf"
   ]
  },
  {
   "cell_type": "code",
   "execution_count": 15,
   "id": "440e9b61",
   "metadata": {},
   "outputs": [],
   "source": [
    "data = np.array([[1, 2], [3, 4]])  # NumPy array\n",
    "tensor = tf.convert_to_tensor(data)"
   ]
  },
  {
   "cell_type": "code",
   "execution_count": 16,
   "id": "f04c69d9",
   "metadata": {},
   "outputs": [
    {
     "name": "stdout",
     "output_type": "stream",
     "text": [
      "[[1 2]\n",
      " [3 4]]\n",
      "tf.Tensor(\n",
      "[[1 2]\n",
      " [3 4]], shape=(2, 2), dtype=int32)\n"
     ]
    }
   ],
   "source": [
    "print (data)\n",
    "print (tensor)"
   ]
  },
  {
   "cell_type": "markdown",
   "id": "641143cd",
   "metadata": {},
   "source": [
    "we can also use a flattened layer in a deep learning model to convert your input data into a tensor format. A flattened layer reshapes the input data into a 1-dimensional tensor, which can then be passed into subsequent layers of the model."
   ]
  },
  {
   "cell_type": "code",
   "execution_count": 18,
   "id": "3ec96ee3",
   "metadata": {},
   "outputs": [
    {
     "name": "stdout",
     "output_type": "stream",
     "text": [
      "(2, 2)\n"
     ]
    }
   ],
   "source": [
    "input_data = data \n",
    "\n",
    "# Create a flattened layer\n",
    "flattened_layer = tf.keras.layers.Flatten()\n",
    "\n",
    "# Apply the flattened layer to your input data\n",
    "flattened_data = flattened_layer(input_data)\n",
    "\n",
    "# Print the shape of the flattened data tensor\n",
    "print(flattened_data.shape)\n"
   ]
  },
  {
   "cell_type": "markdown",
   "id": "87ed5482",
   "metadata": {},
   "source": [
    "### VALUE NORMALIZATION"
   ]
  },
  {
   "cell_type": "markdown",
   "id": "a33c1aa6",
   "metadata": {},
   "source": [
    "It isn’t safe to feed into a neural network data that takes relatively large values,  (for example, data where one\n",
    "feature is in the range 0–1 and another is in the range 100–200)."
   ]
  },
  {
   "cell_type": "markdown",
   "id": "89d439ef",
   "metadata": {},
   "source": [
    "your data should have the following characteristics:\n",
    "\n",
    " Take small values—Typically, most values should be in the 0–1 range.\n",
    "\n",
    " Be homogenous—That is, all features should take values in roughly the same range"
   ]
  },
  {
   "cell_type": "code",
   "execution_count": 21,
   "id": "dd015b4e",
   "metadata": {},
   "outputs": [
    {
     "data": {
      "text/plain": [
       "array([[6.0308636e-08, 1.2061727e-07],\n",
       "       [1.8092589e-07, 2.4123455e-07]], dtype=float32)"
      ]
     },
     "execution_count": 21,
     "metadata": {},
     "output_type": "execute_result"
    }
   ],
   "source": [
    "data = data.astype(np.float32) / 255.0 # Normalize pixel values to [0, 1], tthis can be used when working with gray scale images \n",
    "data"
   ]
  },
  {
   "cell_type": "markdown",
   "id": "e1fa503a",
   "metadata": {},
   "source": [
    "### HANDLING MISSING VALUES"
   ]
  },
  {
   "cell_type": "markdown",
   "id": "23efdecb",
   "metadata": {},
   "source": [
    " In general, with neural networks, it’s safe to input missing values as 0, with the con\u0002dition that 0 isn’t already a meaningful value. The network will learn from exposure to the data that the value 0 means missing data and will start ignoring the value.\n",
    "  \n",
    "### But \n",
    "if you’re expecting missing values in the test data, but the network was\n",
    "trained on data without any missing values, the network won’t have learned to ignore\n",
    "missing values! In this situation, you should artificially generate training samples with\n",
    "missing entries: copy some training samples several times, and drop some of the fea\u0002tures that you expect are likely to be missing in the test data. "
   ]
  },
  {
   "cell_type": "markdown",
   "id": "c9d800be",
   "metadata": {},
   "source": [
    "# Feature engineering"
   ]
  },
  {
   "cell_type": "markdown",
   "id": "a55eb12b",
   "metadata": {},
   "source": [
    "Feature engineering in deep learning involves creating new features or transforming existing features to enhance the representation of the data.Using your own knowledge about the data and algorithm to make the algorithm work better.\n",
    "Hardcoded transformations are applied to the data before it goes into the model.\n",
    "\n",
    "\n",
    "\n",
    "Modern deep learning removes the need for most feature engineering, because neural networks are capable of automatically extracting useful features from raw data. \n",
    "But still we need it for two reasons:\n",
    "\n",
    " Good features still allow you to solve problems more elegantly while using fewer\n",
    "resources.\n",
    "\n",
    " Good features let you solve a problem with far less data. "
   ]
  },
  {
   "cell_type": "code",
   "execution_count": null,
   "id": "623a13ec",
   "metadata": {},
   "outputs": [],
   "source": []
  }
 ],
 "metadata": {
  "kernelspec": {
   "display_name": "Python 3 (ipykernel)",
   "language": "python",
   "name": "python3"
  },
  "language_info": {
   "codemirror_mode": {
    "name": "ipython",
    "version": 3
   },
   "file_extension": ".py",
   "mimetype": "text/x-python",
   "name": "python",
   "nbconvert_exporter": "python",
   "pygments_lexer": "ipython3",
   "version": "3.9.13"
  }
 },
 "nbformat": 4,
 "nbformat_minor": 5
}
