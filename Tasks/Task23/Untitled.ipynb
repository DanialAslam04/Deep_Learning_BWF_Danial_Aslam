{
 "cells": [
  {
   "cell_type": "markdown",
   "id": "ea296285",
   "metadata": {},
   "source": [
    "# <-- Task 23 -->"
   ]
  },
  {
   "cell_type": "markdown",
   "id": "329fd9a0",
   "metadata": {},
   "source": [
    "#### Training, validation, and test sets"
   ]
  },
  {
   "cell_type": "markdown",
   "id": "fdcef03d",
   "metadata": {},
   "source": [
    "##### Train set: We train on the training data \n",
    "\n",
    "##### Validate set: Evaluate your model on the validation data. \n",
    "\n",
    "##### Test set:Once your model is ready for prime time, you test it one final time on the test data"
   ]
  },
  {
   "cell_type": "markdown",
   "id": "4cca5bc2",
   "metadata": {},
   "source": [
    "Developing a model always involves tuning its configuration and this cofiguration is done based on its performance on the validation set. As a result, tuning the configuration of the model based on its performance on the validation set can quickly result in overfitting to the validation set. So you need to use a completely different, never-before-seen dataset to evaluate the model: the test dataset. Your model shouldn’t have had access to any information about the test set, even indirectly."
   ]
  },
  {
   "cell_type": "markdown",
   "id": "e0469ed9",
   "metadata": {},
   "source": [
    "### Techniques used for this:"
   ]
  },
  {
   "cell_type": "markdown",
   "id": "90f3d6da",
   "metadata": {},
   "source": [
    "###### SIMPLE HOLD-OUT VALIDATION"
   ]
  },
  {
   "cell_type": "markdown",
   "id": "6e54bf08",
   "metadata": {},
   "source": [
    "Set apart some fraction of your data as your test set. Train on the remaining data, and\n",
    "evaluate on the test set. As you saw in the previous sections, in order to prevent information leaks, you shouldn’t tune your model based on the test set, and therefore you\n",
    "should also reserve a validation set."
   ]
  },
  {
   "cell_type": "code",
   "execution_count": null,
   "id": "0e0182c3",
   "metadata": {},
   "outputs": [],
   "source": [
    "num_validation_samples = 10000\n",
    "np.random.shuffle(data)\n",
    "validation_data = data[:num_validation_samples]\n",
    "data = data[num_validation_samples:]\n",
    "training_data = data[:]\n",
    "model = get_model()\n",
    "model.train(training_data)\n",
    "validation_score = model.evaluate(validation_data)\n",
    "# At this point you can tune your model,\n",
    "# retrain it, evaluate it, tune it again...\n",
    "model = get_model()\n",
    "model.train(np.concatenate([training_data,\n",
    "validation_data]))\n",
    "test_score = model.evaluate(test_data)"
   ]
  },
  {
   "cell_type": "markdown",
   "id": "2cb21880",
   "metadata": {},
   "source": [
    "##### K-FOLD VALIDATION"
   ]
  },
  {
   "cell_type": "markdown",
   "id": "6f783313",
   "metadata": {},
   "source": [
    "With this approach, you split your data into K partitions of equal size. For each partition i, train a model on the remaining \n",
    "K– 1 partitions, and evaluate it on partition i.Your final score is then the averages of the K scores obtained. "
   ]
  },
  {
   "cell_type": "code",
   "execution_count": null,
   "id": "b4b55f27",
   "metadata": {},
   "outputs": [],
   "source": [
    "k=4\n",
    "num_validation_samples = len(data) // k\n",
    "np.random.shuffle(data)\n",
    "validation_scores = []\n",
    "\n",
    "for fold in range(k):\n",
    "    validation_data = data[num_validation_samples * fold:\n",
    "    num_validation_samples * (fold + 1)]\n",
    "    training_data = data[:num_validation_samples * fold] +\n",
    "    data[num_validation_samples * (fold + 1):]\n",
    "    model = get_model()\n",
    "    model.train(training_data)\n",
    "    validation_score = model.evaluate(validation_data)\n",
    "    validation_scores.append(validation_score)\n",
    "\n",
    "validation_score = np.average(validation_scores)\n",
    "model = get_model()\n",
    "model.train(data)\n",
    "test_score = model.evaluate(test_data)"
   ]
  },
  {
   "cell_type": "code",
   "execution_count": null,
   "id": "638e4b1c",
   "metadata": {},
   "outputs": [],
   "source": []
  },
  {
   "cell_type": "code",
   "execution_count": null,
   "id": "8fe8cf53",
   "metadata": {},
   "outputs": [],
   "source": []
  }
 ],
 "metadata": {
  "kernelspec": {
   "display_name": "Python 3 (ipykernel)",
   "language": "python",
   "name": "python3"
  },
  "language_info": {
   "codemirror_mode": {
    "name": "ipython",
    "version": 3
   },
   "file_extension": ".py",
   "mimetype": "text/x-python",
   "name": "python",
   "nbconvert_exporter": "python",
   "pygments_lexer": "ipython3",
   "version": "3.9.13"
  }
 },
 "nbformat": 4,
 "nbformat_minor": 5
}
