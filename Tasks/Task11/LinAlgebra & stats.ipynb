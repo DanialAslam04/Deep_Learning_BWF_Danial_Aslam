{
 "cells": [
  {
   "cell_type": "markdown",
   "id": "b72e4fb7",
   "metadata": {},
   "source": [
    "### Linear Algebra"
   ]
  },
  {
   "cell_type": "markdown",
   "id": "1feb9166",
   "metadata": {},
   "source": [
    "The Linear Algebra module of NumPy (linalg) offers various methods to apply linear algebra on any numpy array."
   ]
  },
  {
   "cell_type": "code",
   "execution_count": 2,
   "id": "dd562c22",
   "metadata": {},
   "outputs": [],
   "source": [
    "import numpy as np "
   ]
  },
  {
   "cell_type": "code",
   "execution_count": 3,
   "id": "38bcc70c",
   "metadata": {},
   "outputs": [
    {
     "data": {
      "text/plain": [
       "array([[19, 13, 18],\n",
       "       [ 9, 13,  6],\n",
       "       [17, 18, 13]])"
      ]
     },
     "execution_count": 3,
     "metadata": {},
     "output_type": "execute_result"
    }
   ],
   "source": [
    "arr = np.random.randint(1,20,9)\n",
    "arr = arr.reshape(3,3)\n",
    "arr"
   ]
  },
  {
   "cell_type": "code",
   "execution_count": 4,
   "id": "7b01b7c5",
   "metadata": {},
   "outputs": [
    {
     "name": "stdout",
     "output_type": "stream",
     "text": [
      "Rank of Arr: 3\n"
     ]
    }
   ],
   "source": [
    "print(\"Rank of Arr:\", np.linalg.matrix_rank(arr))"
   ]
  },
  {
   "cell_type": "code",
   "execution_count": 5,
   "id": "d80cb636",
   "metadata": {},
   "outputs": [
    {
     "name": "stdout",
     "output_type": "stream",
     "text": [
      "\n",
      "Determinant of Arr: -97.99999999999969\n"
     ]
    }
   ],
   "source": [
    "print(\"\\nDeterminant of Arr:\", np.linalg.det(arr))"
   ]
  },
  {
   "cell_type": "code",
   "execution_count": 6,
   "id": "d7332bad",
   "metadata": {},
   "outputs": [
    {
     "name": "stdout",
     "output_type": "stream",
     "text": [
      "\n",
      "Inverse of A:\n",
      " [[-0.62244898 -1.58163265  1.59183673]\n",
      " [ 0.15306122  0.60204082 -0.48979592]\n",
      " [ 0.60204082  1.23469388 -1.32653061]]\n"
     ]
    }
   ],
   "source": [
    "print(\"\\nInverse of A:\\n\", np.linalg.inv(arr))"
   ]
  },
  {
   "cell_type": "code",
   "execution_count": 7,
   "id": "4dce47de",
   "metadata": {},
   "outputs": [
    {
     "name": "stdout",
     "output_type": "stream",
     "text": [
      "\n",
      "Matrix A raised to power 3:\n",
      " [[ 1364532632  -869119778 -1009679182]\n",
      " [ -179409480 -2118869114  1884348106]\n",
      " [-1497181564 -2021931147  1004904867]]\n"
     ]
    }
   ],
   "source": [
    "print(\"\\nMatrix A raised to power 3:\\n\",\n",
    "           np.linalg.matrix_power(arr, 100))"
   ]
  },
  {
   "cell_type": "code",
   "execution_count": 8,
   "id": "60f72f4f",
   "metadata": {},
   "outputs": [
    {
     "name": "stdout",
     "output_type": "stream",
     "text": [
      "Dot Product of scalar values  :  20\n",
      "Dot Product  :  (-7+22j)\n"
     ]
    }
   ],
   "source": [
    "# Scalars\n",
    "product = np.dot(5, 4)\n",
    "print(\"Dot Product of scalar values  : \", product)\n",
    " \n",
    "# 1D array\n",
    "vector_a = 2 + 3j\n",
    "vector_b = 4 + 5j\n",
    " \n",
    "product = np.dot(vector_a, vector_b)\n",
    "print(\"Dot Product  : \", product)"
   ]
  },
  {
   "cell_type": "code",
   "execution_count": 9,
   "id": "302797f5",
   "metadata": {},
   "outputs": [
    {
     "name": "stdout",
     "output_type": "stream",
     "text": [
      "[[784 740 654]\n",
      " [390 394 318]\n",
      " [706 689 583]]\n"
     ]
    }
   ],
   "source": [
    "ar = np.random.randint(1,20,9)\n",
    "ar = arr.reshape(3,3)\n",
    "ar\n",
    "print(np.matmul(ar, arr))"
   ]
  },
  {
   "cell_type": "markdown",
   "id": "ac37cce3",
   "metadata": {},
   "source": [
    "### Statistics"
   ]
  },
  {
   "cell_type": "code",
   "execution_count": 27,
   "id": "1b8d528d",
   "metadata": {},
   "outputs": [
    {
     "data": {
      "text/plain": [
       "array([[94, 75, 53],\n",
       "       [31, 38, 67],\n",
       "       [57, 70, 63]])"
      ]
     },
     "execution_count": 27,
     "metadata": {},
     "output_type": "execute_result"
    }
   ],
   "source": [
    "data = np.random.randint(27,97,9)\n",
    "data = data. reshape(3,3)\n",
    "data"
   ]
  },
  {
   "cell_type": "code",
   "execution_count": 32,
   "id": "c70db33d",
   "metadata": {},
   "outputs": [
    {
     "name": "stdout",
     "output_type": "stream",
     "text": [
      "Max [94 67 70]\n",
      "Max [94 75 67]\n",
      "Max 94\n"
     ]
    }
   ],
   "source": [
    "# max \n",
    "print('Max', np.amax(data,axis=1))\n",
    "\n",
    "print('Max', np.amax(data,axis=0))\n",
    "\n",
    "print('Max', np.max(data))"
   ]
  },
  {
   "cell_type": "code",
   "execution_count": 34,
   "id": "1bd9adb4",
   "metadata": {},
   "outputs": [
    {
     "name": "stdout",
     "output_type": "stream",
     "text": [
      "Min [53 31 57]\n",
      "Min [31 38 53]\n",
      "Min 31\n"
     ]
    }
   ],
   "source": [
    "# Min\n",
    "\n",
    "print('Min', np.amin(data,axis=1))\n",
    "\n",
    "print('Min', np.amin(data,axis=0))\n",
    "\n",
    "print('Min', np.min(data))"
   ]
  },
  {
   "cell_type": "code",
   "execution_count": 35,
   "id": "28c55783",
   "metadata": {},
   "outputs": [
    {
     "name": "stdout",
     "output_type": "stream",
     "text": [
      "The Range of input array is : \n",
      "63\n"
     ]
    }
   ],
   "source": [
    "# Range\n",
    "\n",
    "print(\"The Range of input array is : \")\n",
    "print(np.ptp(data))"
   ]
  },
  {
   "cell_type": "code",
   "execution_count": 44,
   "id": "7b200a1f",
   "metadata": {},
   "outputs": [
    {
     "name": "stdout",
     "output_type": "stream",
     "text": [
      "[[94 75 53]\n",
      " [31 38 67]\n",
      " [57 70 63]]\n",
      "75.76\n"
     ]
    }
   ],
   "source": [
    "# percentile()\n",
    "print (data)\n",
    "print (np.percentile(data,88) )\n"
   ]
  },
  {
   "cell_type": "code",
   "execution_count": 45,
   "id": "16deec11",
   "metadata": {},
   "outputs": [
    {
     "name": "stdout",
     "output_type": "stream",
     "text": [
      "63.0\n"
     ]
    }
   ],
   "source": [
    "# median()\n",
    "print (np.median(data) )\n"
   ]
  },
  {
   "cell_type": "code",
   "execution_count": 46,
   "id": "7b63c35e",
   "metadata": {},
   "outputs": [
    {
     "name": "stdout",
     "output_type": "stream",
     "text": [
      "60.888888888888886\n"
     ]
    }
   ],
   "source": [
    "# mean\n",
    "\n",
    "print (np.mean(data) )\n"
   ]
  },
  {
   "cell_type": "code",
   "execution_count": 59,
   "id": "a6e2d283",
   "metadata": {},
   "outputs": [
    {
     "name": "stdout",
     "output_type": "stream",
     "text": [
      "[16.75310916 15.58489297  5.31245915]\n"
     ]
    }
   ],
   "source": [
    "# std\n",
    "print (np.std(data,axis=1))"
   ]
  },
  {
   "cell_type": "code",
   "execution_count": 57,
   "id": "c3241f0d",
   "metadata": {},
   "outputs": [
    {
     "name": "stdout",
     "output_type": "stream",
     "text": [
      "[[94 75 53]\n",
      " [31 38 67]\n",
      " [57 70 63]]\n"
     ]
    },
    {
     "data": {
      "text/plain": [
       "<AxesSubplot:ylabel='Count'>"
      ]
     },
     "execution_count": 57,
     "metadata": {},
     "output_type": "execute_result"
    },
    {
     "data": {
      "image/png": "[encoded data removed]",
      "text/plain": [
       "<Figure size 640x480 with 1 Axes>"
      ]
     },
     "metadata": {},
     "output_type": "display_data"
    }
   ],
   "source": [
    "print (data)\n",
    "import seaborn as sns\n",
    "\n",
    "sns. histplot(df ,kde =True)"
   ]
  },
  {
   "cell_type": "code",
   "execution_count": 60,
   "id": "4025d7ec",
   "metadata": {},
   "outputs": [
    {
     "name": "stdout",
     "output_type": "stream",
     "text": [
      "323.8765432098765\n"
     ]
    }
   ],
   "source": [
    "# Variance\n",
    "print (np.var(data) )"
   ]
  },
  {
   "cell_type": "code",
   "execution_count": null,
   "id": "d0b4ffe8",
   "metadata": {},
   "outputs": [],
   "source": []
  }
 ],
 "metadata": {
  "kernelspec": {
   "display_name": "Python 3 (ipykernel)",
   "language": "python",
   "name": "python3"
  },
  "language_info": {
   "codemirror_mode": {
    "name": "ipython",
    "version": 3
   },
   "file_extension": ".py",
   "mimetype": "text/x-python",
   "name": "python",
   "nbconvert_exporter": "python",
   "pygments_lexer": "ipython3",
   "version": "3.9.13"
  }
 },
 "nbformat": 4,
 "nbformat_minor": 5
}
