{
 "cells": [
  {
   "cell_type": "markdown",
   "id": "d165d4bb",
   "metadata": {},
   "source": [
    "## Dictionary"
   ]
  },
  {
   "cell_type": "code",
   "execution_count": 17,
   "id": "99c73582",
   "metadata": {},
   "outputs": [
    {
     "data": {
      "text/plain": [
       "{1: 'asad', 2: 'Ali'}"
      ]
     },
     "execution_count": 17,
     "metadata": {},
     "output_type": "execute_result"
    }
   ],
   "source": [
    "Dic = {1:'asad',2:'Ali'}\n",
    "Dic"
   ]
  },
  {
   "cell_type": "code",
   "execution_count": 3,
   "id": "312c31cb",
   "metadata": {},
   "outputs": [
    {
     "data": {
      "text/plain": [
       "{'name1': 'asad', 'name2': 'Ali'}"
      ]
     },
     "execution_count": 3,
     "metadata": {},
     "output_type": "execute_result"
    }
   ],
   "source": [
    "Dict = dict({1:'asad',2:'Ali'})\n",
    "Dict"
   ]
  },
  {
   "cell_type": "code",
   "execution_count": 16,
   "id": "a35d2577",
   "metadata": {},
   "outputs": [
    {
     "name": "stdout",
     "output_type": "stream",
     "text": [
      "1.3081932000000052\n",
      "3.212362500000154\n"
     ]
    }
   ],
   "source": [
    "import timeit\n",
    "c1='''\n",
    "Dic = {1:'asad',2:'Ali'}\n",
    "'''\n",
    "\n",
    "c2 ='''\n",
    "Dict = dict({1:'asad',2:'Ali'})\n",
    "'''\n",
    "print (timeit.timeit(stmt = c1, number = 10000000))\n",
    "print (timeit.timeit(stmt = c2, number = 10000000))\n",
    "\n"
   ]
  },
  {
   "cell_type": "code",
   "execution_count": 19,
   "id": "d938669c",
   "metadata": {},
   "outputs": [
    {
     "data": {
      "text/plain": [
       "{1: 'one', 2: 'two', 3: {4: 'four', 5: 'five'}}"
      ]
     },
     "execution_count": 19,
     "metadata": {},
     "output_type": "execute_result"
    }
   ],
   "source": [
    "# Nested Dictionary\n",
    "d= {1: 'one', 2: 'two', 3:{4:'four',5:'five'}}\n",
    "d"
   ]
  },
  {
   "cell_type": "code",
   "execution_count": 21,
   "id": "b9859ee3",
   "metadata": {},
   "outputs": [
    {
     "name": "stdout",
     "output_type": "stream",
     "text": [
      "one\n",
      "two\n",
      "{4: 'four', 5: 'five'}\n"
     ]
    }
   ],
   "source": [
    "for i in d:\n",
    "    print(d[i])\n"
   ]
  },
  {
   "cell_type": "code",
   "execution_count": 22,
   "id": "9ceb8912",
   "metadata": {},
   "outputs": [
    {
     "data": {
      "text/plain": [
       "{1: 'one', 2: 'two', 3: {4: 'four', 5: 'five'}, 'new': 11}"
      ]
     },
     "execution_count": 22,
     "metadata": {},
     "output_type": "execute_result"
    }
   ],
   "source": [
    "# adding new elements\n",
    "d['new']=11\n",
    "d"
   ]
  },
  {
   "cell_type": "code",
   "execution_count": 30,
   "id": "73532a4e",
   "metadata": {},
   "outputs": [
    {
     "name": "stdout",
     "output_type": "stream",
     "text": [
      "Dan :  321111\n",
      "asd :  9231232\n"
     ]
    }
   ],
   "source": [
    "# Accessing Elements\n",
    "ph_No={'Dan':321111,'asd':9231232,}\n",
    "for i in ph_No:\n",
    "    print(i,': ', ph_No[i])\n"
   ]
  },
  {
   "cell_type": "code",
   "execution_count": 32,
   "id": "a696cde3",
   "metadata": {},
   "outputs": [
    {
     "name": "stdout",
     "output_type": "stream",
     "text": [
      "four\n",
      "five\n"
     ]
    }
   ],
   "source": [
    "print(d[3][4])\n",
    "print(d[3][5])"
   ]
  },
  {
   "cell_type": "markdown",
   "id": "06617738",
   "metadata": {},
   "source": [
    "### Methods"
   ]
  },
  {
   "cell_type": "code",
   "execution_count": 34,
   "id": "193fd531",
   "metadata": {},
   "outputs": [
    {
     "name": "stdout",
     "output_type": "stream",
     "text": [
      "{1: 'Danial', 2: 'jawad', 3: 'ALi', 4: 'Asad'}\n",
      "{}\n",
      "Danial\n",
      "dict_items([(1, 'Danial'), (2, 'jawad'), (3, 'ALi'), (4, 'Asad')])\n",
      "dict_keys([1, 2, 3, 4])\n",
      "{1: 'Danial', 2: 'jawad', 3: 'ALi'}\n",
      "{1: 'Danial', 2: 'jawad'}\n",
      "{1: 'Danial', 2: 'jawad', 3: 'Dania'}\n",
      "dict_values(['Danial', 'jawad', 'Dania'])\n"
     ]
    }
   ],
   "source": [
    "# demo for all dictionary methods\n",
    "dict1 = {1: \"Danial\", 2: \"jawad\", 3: \"ALi\", 4: \"Asad\"}\n",
    "\n",
    "# copy() method\n",
    "dict2 = dict1.copy()\n",
    "print(dict2)\n",
    "\n",
    "# clear() method\n",
    "dict1.clear()\n",
    "print(dict1)\n",
    "\n",
    "# get() method\n",
    "print(dict2.get(1))\n",
    "\n",
    "# items() method\n",
    "print(dict2.items())\n",
    "\n",
    "# keys() method\n",
    "print(dict2.keys())\n",
    "\n",
    "# pop() method\n",
    "dict2.pop(4)\n",
    "print(dict2)\n",
    "\n",
    "# popitem() method\n",
    "dict2.popitem()\n",
    "print(dict2)\n",
    "\n",
    "# update() method\n",
    "dict2.update({3: \"Dania\"})\n",
    "print(dict2)\n",
    "\n",
    "# values() method\n",
    "print(dict2.values())\n"
   ]
  },
  {
   "cell_type": "code",
   "execution_count": null,
   "id": "91c5d01d",
   "metadata": {},
   "outputs": [],
   "source": []
  }
 ],
 "metadata": {
  "kernelspec": {
   "display_name": "Python 3 (ipykernel)",
   "language": "python",
   "name": "python3"
  },
  "language_info": {
   "codemirror_mode": {
    "name": "ipython",
    "version": 3
   },
   "file_extension": ".py",
   "mimetype": "text/x-python",
   "name": "python",
   "nbconvert_exporter": "python",
   "pygments_lexer": "ipython3",
   "version": "3.9.13"
  }
 },
 "nbformat": 4,
 "nbformat_minor": 5
}
