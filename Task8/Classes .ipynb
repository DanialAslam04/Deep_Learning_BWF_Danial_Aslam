{
 "cells": [
  {
   "cell_type": "markdown",
   "id": "6b5e00be",
   "metadata": {},
   "source": [
    "## Class"
   ]
  },
  {
   "cell_type": "code",
   "execution_count": 59,
   "id": "60738010",
   "metadata": {},
   "outputs": [],
   "source": [
    "class person:\n",
    "    Num = 200\n",
    "    \n",
    "    def fun(self):\n",
    "        print('Hello there, my num is' , self.Num )\n",
    "       "
   ]
  },
  {
   "cell_type": "code",
   "execution_count": 60,
   "id": "71881759",
   "metadata": {},
   "outputs": [
    {
     "data": {
      "text/plain": [
       "<__main__.person at 0x190fe278550>"
      ]
     },
     "execution_count": 60,
     "metadata": {},
     "output_type": "execute_result"
    }
   ],
   "source": [
    "p1 = person()\n",
    "p1"
   ]
  },
  {
   "cell_type": "code",
   "execution_count": 61,
   "id": "b1e054bc",
   "metadata": {},
   "outputs": [
    {
     "name": "stdout",
     "output_type": "stream",
     "text": [
      "Hello there, my num is 200\n"
     ]
    }
   ],
   "source": [
    "p1.fun()"
   ]
  },
  {
   "cell_type": "code",
   "execution_count": 62,
   "id": "00bef8e7",
   "metadata": {},
   "outputs": [
    {
     "name": "stdout",
     "output_type": "stream",
     "text": [
      "Hello there, my num is 200\n"
     ]
    }
   ],
   "source": [
    "p2 = person()\n",
    "p2.fun()"
   ]
  },
  {
   "cell_type": "markdown",
   "id": "80160680",
   "metadata": {},
   "source": [
    "#### Constructor"
   ]
  },
  {
   "cell_type": "code",
   "execution_count": 71,
   "id": "3a0ae3ed",
   "metadata": {},
   "outputs": [],
   "source": [
    "class person:\n",
    "    \n",
    "    def __init__ (self ,name):\n",
    "        self.name=name\n",
    "    \n",
    "    def fun(self):\n",
    "        print('Hello there, my name is' , self.name )\n",
    "       "
   ]
  },
  {
   "cell_type": "code",
   "execution_count": 72,
   "id": "7cf71cc2",
   "metadata": {},
   "outputs": [
    {
     "name": "stdout",
     "output_type": "stream",
     "text": [
      "Hello there, my name is asad\n"
     ]
    }
   ],
   "source": [
    "p2 = person('asad')\n",
    "p2.fun()"
   ]
  },
  {
   "cell_type": "markdown",
   "id": "e5e15db3",
   "metadata": {},
   "source": [
    "##### Class and Instance Variables"
   ]
  },
  {
   "cell_type": "code",
   "execution_count": 74,
   "id": "bc7eb720",
   "metadata": {},
   "outputs": [
    {
     "name": "stdout",
     "output_type": "stream",
     "text": [
      "Rodger details:\n",
      "Rodger is a dog\n",
      "Breed:  Pug\n",
      "Color:  brown\n",
      "\n",
      "Buzo details:\n",
      "Buzo is a dog\n",
      "Breed:  Bulldog\n",
      "Color:  black\n",
      "\n",
      "Accessing class variable using class name\n",
      "dog\n"
     ]
    }
   ],
   "source": [
    "class Dog:\n",
    "\n",
    "    # Class Variable\n",
    "    animal = 'dog'\n",
    "\n",
    "    # The init method or constructor\n",
    "    def __init__(self, breed, color):\n",
    "\n",
    "        # Instance Variable\n",
    "        self.breed = breed\n",
    "        self.color = color\n",
    "\n",
    "\n",
    "# Objects of Dog class\n",
    "Rodger = Dog(\"Pug\", \"brown\")\n",
    "Buzo = Dog(\"Bulldog\", \"black\")\n",
    "\n",
    "print('Rodger details:')\n",
    "print('Rodger is a', Rodger.animal)\n",
    "print('Breed: ', Rodger.breed)\n",
    "print('Color: ', Rodger.color)\n",
    "\n",
    "print('\\nBuzo details:')\n",
    "print('Buzo is a', Buzo.animal)\n",
    "print('Breed: ', Buzo.breed)\n",
    "print('Color: ', Buzo.color)\n",
    "\n",
    "# Class variables can be accessed using class\n",
    "# name also\n",
    "print(\"\\nAccessing class variable using class name\")\n",
    "print(Dog.animal)\n"
   ]
  },
  {
   "cell_type": "markdown",
   "id": "93e40ca8",
   "metadata": {},
   "source": [
    "##### Inheritance"
   ]
  },
  {
   "cell_type": "code",
   "execution_count": 87,
   "id": "08e26d91",
   "metadata": {},
   "outputs": [],
   "source": [
    "class Person:\n",
    "    \n",
    "    def __init__(self,na,id):\n",
    "        self.name = na\n",
    "        self.id = id\n",
    "     \n",
    "    def dis(self):\n",
    "        print('Name: ',self.name)\n",
    "        print('Id: '  ,self.id)\n",
    "       \n",
    "        "
   ]
  },
  {
   "cell_type": "code",
   "execution_count": 90,
   "id": "3a9d17c8",
   "metadata": {},
   "outputs": [
    {
     "name": "stdout",
     "output_type": "stream",
     "text": [
      "Name:  dan\n",
      "Id:  15\n",
      "Employee Class\n"
     ]
    }
   ],
   "source": [
    "class Emp(Person):\n",
    "    \n",
    "    def pri(self):\n",
    "        print('Employee Class')\n",
    "\n",
    "E = Emp('dan',15)        \n",
    "E.dis()\n",
    "E.pri()\n"
   ]
  },
  {
   "cell_type": "code",
   "execution_count": null,
   "id": "4316591c",
   "metadata": {},
   "outputs": [],
   "source": []
  }
 ],
 "metadata": {
  "kernelspec": {
   "display_name": "Python 3 (ipykernel)",
   "language": "python",
   "name": "python3"
  },
  "language_info": {
   "codemirror_mode": {
    "name": "ipython",
    "version": 3
   },
   "file_extension": ".py",
   "mimetype": "text/x-python",
   "name": "python",
   "nbconvert_exporter": "python",
   "pygments_lexer": "ipython3",
   "version": "3.9.13"
  }
 },
 "nbformat": 4,
 "nbformat_minor": 5
}
