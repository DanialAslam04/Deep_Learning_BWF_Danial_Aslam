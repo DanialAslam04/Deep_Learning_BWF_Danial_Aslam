{
 "cells": [
  {
   "cell_type": "markdown",
   "id": "d6ce66e3",
   "metadata": {},
   "source": [
    "## 1. Enumerate() Function\n"
   ]
  },
  {
   "cell_type": "markdown",
   "id": "4f3ad7b1",
   "metadata": {},
   "source": [
    "Enumerate() method adds a counter to an iterable and returns it in a form of enumerating object Often, when dealing with iterators, we also get need to keep a count of iterations. Python eases the programmers’ task by providing a built-in function enumerate() for this task."
   ]
  },
  {
   "cell_type": "code",
   "execution_count": 25,
   "id": "c539cc65",
   "metadata": {},
   "outputs": [
    {
     "data": {
      "text/plain": [
       "['Zero', 'One', 'Two']"
      ]
     },
     "execution_count": 25,
     "metadata": {},
     "output_type": "execute_result"
    }
   ],
   "source": [
    "l1=['Zero','One','Two']\n",
    "l1"
   ]
  },
  {
   "cell_type": "code",
   "execution_count": 30,
   "id": "3ec5ffb1",
   "metadata": {},
   "outputs": [
    {
     "name": "stdout",
     "output_type": "stream",
     "text": [
      "[(2, 'Zero'), (3, 'One'), (4, 'Two')]\n"
     ]
    }
   ],
   "source": [
    "enum=enumerate(l1)\n",
    "enum_lst= (list(enum))\n",
    "print(enum_lst)"
   ]
  },
  {
   "cell_type": "code",
   "execution_count": 29,
   "id": "092a0712",
   "metadata": {},
   "outputs": [
    {
     "name": "stdout",
     "output_type": "stream",
     "text": [
      "(0, 'Zero')\n",
      "(1, 'One')\n",
      "(2, 'Two')\n"
     ]
    }
   ],
   "source": [
    "for i in enum_lst:\n",
    "    print(i)"
   ]
  },
  {
   "cell_type": "markdown",
   "id": "bbc5b93b",
   "metadata": {},
   "source": [
    "#### changing start index to 10 from 0"
   ]
  },
  {
   "cell_type": "code",
   "execution_count": 33,
   "id": "3488791b",
   "metadata": {},
   "outputs": [
    {
     "name": "stdout",
     "output_type": "stream",
     "text": [
      "[(10, 'Zero'), (11, 'One'), (12, 'Two')]\n"
     ]
    }
   ],
   "source": [
    "enum=enumerate(l1,10)\n",
    "print(list(enum))"
   ]
  },
  {
   "cell_type": "markdown",
   "id": "0b4288f4",
   "metadata": {},
   "source": [
    "#### using with loops"
   ]
  },
  {
   "cell_type": "code",
   "execution_count": 35,
   "id": "34bfacc0",
   "metadata": {},
   "outputs": [
    {
     "name": "stdout",
     "output_type": "stream",
     "text": [
      "0\n",
      "Zero\n",
      "1\n",
      "One\n",
      "2\n",
      "Two\n"
     ]
    }
   ],
   "source": [
    "for count, ele in enumerate(l1):\n",
    "    print(count)\n",
    "    print (ele)"
   ]
  },
  {
   "cell_type": "markdown",
   "id": "3c0acfb5",
   "metadata": {},
   "source": [
    "## 2. Timing your code"
   ]
  },
  {
   "cell_type": "markdown",
   "id": "58d91388",
   "metadata": {},
   "source": [
    "It's a method of measuring the execution time of your python code snippets, using an in-built python library timeit."
   ]
  },
  {
   "cell_type": "code",
   "execution_count": 40,
   "id": "48542b44",
   "metadata": {},
   "outputs": [
    {
     "name": "stdout",
     "output_type": "stream",
     "text": [
      "0.0021266000001105567\n",
      "0.0017746000000897766\n"
     ]
    }
   ],
   "source": [
    "import timeit\n",
    "c1='''\n",
    "l1=[1,2,3]\n",
    "'''\n",
    "l1=[1,2,3]\n",
    "\n",
    "c2 ='''\n",
    "l2=list()\n",
    "'''\n",
    "print (timeit.timeit(stmt = c1, number = 10000))\n",
    "print (timeit.timeit(stmt = c2, number = 10000))\n",
    "\n"
   ]
  },
  {
   "cell_type": "code",
   "execution_count": 32,
   "id": "52879dff",
   "metadata": {},
   "outputs": [
    {
     "name": "stdout",
     "output_type": "stream",
     "text": [
      "0.00025909999999385036\n"
     ]
    }
   ],
   "source": [
    "mysetup = \"from math import sqrt\"\n",
    " \n",
    "mycode = '''\n",
    "def example():\n",
    "    mylist = []\n",
    "    for x in range(100):\n",
    "        mylist.append(sqrt(x))\n",
    "'''\n",
    " \n",
    "print (timeit.timeit(setup = mysetup,\n",
    "                     stmt = mycode,\n",
    "                     number = 1000))"
   ]
  },
  {
   "cell_type": "markdown",
   "id": "44f6100c",
   "metadata": {},
   "source": [
    "## 3. Taking Input"
   ]
  },
  {
   "cell_type": "code",
   "execution_count": 42,
   "id": "7093cbb8",
   "metadata": {},
   "outputs": [
    {
     "name": "stdout",
     "output_type": "stream",
     "text": [
      "Enter number: 12\n"
     ]
    }
   ],
   "source": [
    "n1=input(\"Enter number: \")"
   ]
  },
  {
   "cell_type": "code",
   "execution_count": 43,
   "id": "c892bff0",
   "metadata": {},
   "outputs": [
    {
     "ename": "TypeError",
     "evalue": "can only concatenate str (not \"int\") to str",
     "output_type": "error",
     "traceback": [
      "\u001b[1;31m---------------------------------------------------------------------------\u001b[0m",
      "\u001b[1;31mTypeError\u001b[0m                                 Traceback (most recent call last)",
      "\u001b[1;32m~\\AppData\\Local\\Temp\\ipykernel_9348\\1185775889.py\u001b[0m in \u001b[0;36m<module>\u001b[1;34m\u001b[0m\n\u001b[1;32m----> 1\u001b[1;33m \u001b[0mn1\u001b[0m\u001b[1;33m+\u001b[0m\u001b[1;36m1\u001b[0m\u001b[1;33m\u001b[0m\u001b[1;33m\u001b[0m\u001b[0m\n\u001b[0m",
      "\u001b[1;31mTypeError\u001b[0m: can only concatenate str (not \"int\") to str"
     ]
    }
   ],
   "source": [
    "n1+1"
   ]
  },
  {
   "cell_type": "markdown",
   "id": "906c5c6e",
   "metadata": {},
   "source": [
    "#### It's because n1 is a variable that will get the string value, typed by the user during the execution of the program."
   ]
  },
  {
   "cell_type": "code",
   "execution_count": 45,
   "id": "2876dff1",
   "metadata": {},
   "outputs": [
    {
     "name": "stdout",
     "output_type": "stream",
     "text": [
      "Enter number: 12\n"
     ]
    }
   ],
   "source": [
    "n1=int(input(\"Enter number: \"))"
   ]
  },
  {
   "cell_type": "code",
   "execution_count": 46,
   "id": "b53258e5",
   "metadata": {},
   "outputs": [
    {
     "data": {
      "text/plain": [
       "14"
      ]
     },
     "execution_count": 46,
     "metadata": {},
     "output_type": "execute_result"
    }
   ],
   "source": [
    "n1+2"
   ]
  },
  {
   "cell_type": "code",
   "execution_count": 47,
   "id": "6452846b",
   "metadata": {},
   "outputs": [
    {
     "name": "stdout",
     "output_type": "stream",
     "text": [
      "Enter your name: Muhammad Danial Aslam\n"
     ]
    }
   ],
   "source": [
    "Name = input(\"Enter your name: \")"
   ]
  },
  {
   "cell_type": "code",
   "execution_count": 54,
   "id": "d31a1954",
   "metadata": {},
   "outputs": [
    {
     "name": "stdout",
     "output_type": "stream",
     "text": [
      "Enter Number: 1\n",
      "1\n",
      "Enter Number: 2\n",
      "4\n",
      "Enter Number: 3\n",
      "9\n",
      "Enter Number: 4\n",
      "16\n",
      "[1, 2, 3, 4]\n"
     ]
    }
   ],
   "source": [
    "# taking list as input\n",
    "l=[]\n",
    "for i in range(1,5):\n",
    "    n=int(input(\"Enter Number: \"))\n",
    "    l.append(n)\n",
    "    print(n*n)\n",
    "    \n",
    "print(l)"
   ]
  },
  {
   "cell_type": "markdown",
   "id": "fd19f4a8",
   "metadata": {},
   "source": [
    "## 4. Conditionals"
   ]
  },
  {
   "cell_type": "code",
   "execution_count": 55,
   "id": "ca655f78",
   "metadata": {},
   "outputs": [
    {
     "name": "stdout",
     "output_type": "stream",
     "text": [
      "No\n"
     ]
    }
   ],
   "source": [
    "if (5>6):\n",
    "    print('Y')\n",
    "else: \n",
    "    print ('No')\n"
   ]
  },
  {
   "cell_type": "code",
   "execution_count": 56,
   "id": "e6ac4e9f",
   "metadata": {},
   "outputs": [
    {
     "name": "stdout",
     "output_type": "stream",
     "text": [
      "2\n"
     ]
    }
   ],
   "source": [
    "if (5>6):\n",
    "    print('1')\n",
    "elif (6>5) : \n",
    "    print (2)\n"
   ]
  },
  {
   "cell_type": "code",
   "execution_count": 62,
   "id": "e19aa1a4",
   "metadata": {},
   "outputs": [
    {
     "name": "stdout",
     "output_type": "stream",
     "text": [
      "3\n"
     ]
    }
   ],
   "source": [
    "if (5>6):\n",
    "    print('1')\n",
    "elif (6==5) : \n",
    "    print (2)\n",
    "else: print (3) "
   ]
  },
  {
   "cell_type": "code",
   "execution_count": 63,
   "id": "ef68f06a",
   "metadata": {},
   "outputs": [
    {
     "name": "stdout",
     "output_type": "stream",
     "text": [
      "Yes\n"
     ]
    }
   ],
   "source": [
    "if (6>5) and (5>4):\n",
    "    print('Yes')"
   ]
  },
  {
   "cell_type": "code",
   "execution_count": 67,
   "id": "98f4721b",
   "metadata": {},
   "outputs": [
    {
     "name": "stdout",
     "output_type": "stream",
     "text": [
      "Yes\n"
     ]
    }
   ],
   "source": [
    "if (6>5) or (1>4):\n",
    "    print('Yes')"
   ]
  },
  {
   "cell_type": "code",
   "execution_count": 69,
   "id": "298ffae8",
   "metadata": {},
   "outputs": [
    {
     "name": "stdout",
     "output_type": "stream",
     "text": [
      "NO\n"
     ]
    }
   ],
   "source": [
    "if (6<5) or (1>4):\n",
    "    print('Yes')\n",
    "else:\n",
    "    print('NO')"
   ]
  },
  {
   "cell_type": "code",
   "execution_count": 70,
   "id": "74df6b24",
   "metadata": {},
   "outputs": [
    {
     "name": "stdout",
     "output_type": "stream",
     "text": [
      "Hello Joe\n"
     ]
    }
   ],
   "source": [
    "name = 'Joe'\n",
    "if name == 'Fred':\n",
    "    print('Hello Fred')\n",
    "elif name == 'Xander':\n",
    "    print('Hello Xander')\n",
    "elif name == 'Joe':\n",
    "    print('Hello Joe')\n",
    "elif name == 'Arnold':\n",
    "    print('Hello Arnold')\n",
    "else:\n",
    "    print(\"I don't know who you are!\")\n",
    "\n"
   ]
  },
  {
   "cell_type": "code",
   "execution_count": null,
   "id": "cc4322e8",
   "metadata": {},
   "outputs": [],
   "source": []
  }
 ],
 "metadata": {
  "kernelspec": {
   "display_name": "Python 3 (ipykernel)",
   "language": "python",
   "name": "python3"
  },
  "language_info": {
   "codemirror_mode": {
    "name": "ipython",
    "version": 3
   },
   "file_extension": ".py",
   "mimetype": "text/x-python",
   "name": "python",
   "nbconvert_exporter": "python",
   "pygments_lexer": "ipython3",
   "version": "3.9.13"
  }
 },
 "nbformat": 4,
 "nbformat_minor": 5
}
